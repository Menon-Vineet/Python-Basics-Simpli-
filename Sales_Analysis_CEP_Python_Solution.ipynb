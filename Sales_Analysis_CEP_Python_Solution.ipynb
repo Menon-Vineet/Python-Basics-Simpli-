{
 "cells": [
  {
   "cell_type": "markdown",
   "metadata": {
    "id": "BU8vXw7XuyHi"
   },
   "source": [
    "# Course End Project - Sales Analysis\n",
    "## Project Statement\n",
    "AAL is a household name in Australia, known for its clothing business since 2000. It caters to all groups— kids, women, men, and seniors. It has opened branches in many states in Australia, in metropolises and tier-1 and tier-2 cities. \n",
    "The business is booming, and the company is in an expansion mode. It wants to get an in-depth understanding of its sales so that it can make investment decisions. The CEO has tasked the Head of Sales and Marketing (S&M) of AAL to:\n",
    "1. Determine the states that are generating the highest revenues, and\n",
    "2. Formulate sales programs for states with lower revenues. The Head of S&M has approached you for the same\n",
    "\n",
    "Analyze the company’s sales data for the fourth quarter across Australia, and state by state and help the company make data-driven decisions for the coming year. Enclosed is the CSV (AusApparalSales4thQrt2020.csv)  file that covers the said data.\n",
    "### Perform the following Steps\n",
    "As a data scientist, you must perform the following main steps on the enclosed data.\n",
    "1.\tData Wrangling\n",
    "2.\tData Analysis\n",
    "3.\tData Visualization and\n",
    "4.\tReport Generation\n",
    "\n",
    "### Data Wrangling\n",
    "* Ensure that the data is clean and that there is no missing or incorrect data. \n",
    "    - Inspect the data manually for missing/incorrect data using the functions isna(), and notna().\n",
    "* Based on your knowledge of Data Analytics, include your recommendations for treating missing data and incorrect data. (dropping the null values or filling them).\n",
    "* Select an appropriate Data Wrangling approach —  data standardization or data normalization. Perform the standardization or normalization and present the data. (Normalization is the preferred approach for this problem.)\n",
    "* Share your recommendation on the usage of the groupby() function for data chunking or merging.\n",
    "### Data Analysis\n",
    "* Perform descriptive statistical analysis on the data (Sales and Unit columns) (Techniques such as mean, median, mode and standard deviation can be used.). \n",
    "* Determine which group is generating the highest sales, and which group is generating the lowest sales.\n",
    "* Determine which state is generating the highest sales, and which state is generating the lowest sales.\n",
    "* Generate weekly, monthly and quarterly reports for the analysis made.\n",
    "(Use suitable libraries such as NumPy, Pandas, SciPy etc. for performing the analysis.)\n",
    "### Data Visualization\n",
    "* Use appropriate data visualization libraries to build a dashboard for the Head of S&M that includes for the key parameters like \n",
    "    - State-wise sales analysis for different groups (kids, women, men, and seniors) \n",
    "    - Group-wise sales analysis (kids, women, men, and seniors) across different states.\n",
    "    - Time-of-the-day analysis: during which time of the day are sales the highest, and during which time are sales the lowest? [This helps S&M teams design programs for increasing sales such as hyper-personalization and Next Best Offers].\n",
    "\n",
    "* The dashboard must contain daily, weekly, monthly and quarterly charts.\n",
    "(Any visualization library can be used for this purpose. However, since statistical analysis is being done, Seaborn is preferred.)\n",
    "* Include your recommendation, and indicate why you are choosing the recommended visualization package.\n",
    "### Report Generation \n",
    "* Use JupyterLab Notebook for report generation (wrangling, analysis and visualization) Please note that JupyterLab allows you to mix code with graphs and plots etc.\n",
    "* Use Markdown in suitable places, while presenting your report. \n",
    "* The report should contain suitable graphs, plots and analysis reports, and recommendations. Please note that different aspects of analysis demand different graphs/plots. \n",
    "    - Use box plot for descriptive statistics\n",
    "    - Use Seaborn distribution plot or any other statistical plotting.\n",
    "\n",
    "## Time Allocated: 1 Hour\n",
    "\n"
   ]
  },
  {
   "cell_type": "markdown",
   "metadata": {
    "id": "u3jTmGVIzoma"
   },
   "source": [
    "# Analysis and Report on Sales of AAL\n",
    "\n",
    "As a part of this, the very first step is that we are going to import the necessary libraries, and they are as follows:\n",
    "\n",
    "```\n",
    "import pandas as pd\n",
    "import numpy as np\n",
    "from sklearn.preprocessing import MinMaxScaler\n",
    "import matplotlib.pyplot as plt\n",
    "import seaborn as sns\n",
    "import datetime\n",
    "```"
   ]
  },
  {
   "cell_type": "code",
   "execution_count": 46,
   "metadata": {
    "executionInfo": {
     "elapsed": 630,
     "status": "ok",
     "timestamp": 1643951905190,
     "user": {
      "displayName": "Altius Digital",
      "photoUrl": "https://lh3.googleusercontent.com/a-/AOh14Gg-jM7BssdeaRMMWYY-mmAR3qB9-8qGrJOINB1iwA=s64",
      "userId": "15775653459441703519"
     },
     "user_tz": -330
    },
    "id": "y62a5JXdEDBY"
   },
   "outputs": [],
   "source": [
    "import pandas as pd\n",
    "import numpy as np\n",
    "from sklearn.preprocessing import MinMaxScaler\n",
    "import matplotlib.pyplot as plt\n",
    "import seaborn as sns\n",
    "import datetime"
   ]
  },
  {
   "cell_type": "markdown",
   "metadata": {
    "id": "o0FScHew0uoO"
   },
   "source": [
    "In the next, we are going to read the .csv file and store that as a dataframe called ```df```."
   ]
  },
  {
   "cell_type": "code",
   "execution_count": 47,
   "metadata": {
    "executionInfo": {
     "elapsed": 39,
     "status": "ok",
     "timestamp": 1643951905676,
     "user": {
      "displayName": "Altius Digital",
      "photoUrl": "https://lh3.googleusercontent.com/a-/AOh14Gg-jM7BssdeaRMMWYY-mmAR3qB9-8qGrJOINB1iwA=s64",
      "userId": "15775653459441703519"
     },
     "user_tz": -330
    },
    "id": "D9mZdWd305BB"
   },
   "outputs": [],
   "source": [
    "df = pd.read_csv('AusApparalSales4thQrt2020.csv', parse_dates=['Date'], dtype={'Time': str, 'State': str, 'Group': str})"
   ]
  },
  {
   "cell_type": "markdown",
   "metadata": {
    "id": "prYcNGUv-goF"
   },
   "source": [
    "Now, print the dataframe ```df``` and ascertain the number of rows and colums of data."
   ]
  },
  {
   "cell_type": "code",
   "execution_count": 48,
   "metadata": {
    "colab": {
     "base_uri": "https://localhost:8080/",
     "height": 424
    },
    "executionInfo": {
     "elapsed": 39,
     "status": "ok",
     "timestamp": 1643951905677,
     "user": {
      "displayName": "Altius Digital",
      "photoUrl": "https://lh3.googleusercontent.com/a-/AOh14Gg-jM7BssdeaRMMWYY-mmAR3qB9-8qGrJOINB1iwA=s64",
      "userId": "15775653459441703519"
     },
     "user_tz": -330
    },
    "id": "75XmOpQn-c-X",
    "outputId": "97262135-5b78-456a-a697-6a89bea15ffc"
   },
   "outputs": [
    {
     "data": {
      "text/html": [
       "\n",
       "  <div id=\"df-bc9f85b3-60f3-4495-9bca-b321b638ca71\">\n",
       "    <div class=\"colab-df-container\">\n",
       "      <div>\n",
       "<style scoped>\n",
       "    .dataframe tbody tr th:only-of-type {\n",
       "        vertical-align: middle;\n",
       "    }\n",
       "\n",
       "    .dataframe tbody tr th {\n",
       "        vertical-align: top;\n",
       "    }\n",
       "\n",
       "    .dataframe thead th {\n",
       "        text-align: right;\n",
       "    }\n",
       "</style>\n",
       "<table border=\"1\" class=\"dataframe\">\n",
       "  <thead>\n",
       "    <tr style=\"text-align: right;\">\n",
       "      <th></th>\n",
       "      <th>Date</th>\n",
       "      <th>Time</th>\n",
       "      <th>State</th>\n",
       "      <th>Group</th>\n",
       "      <th>Unit</th>\n",
       "      <th>Sales</th>\n",
       "    </tr>\n",
       "  </thead>\n",
       "  <tbody>\n",
       "    <tr>\n",
       "      <th>0</th>\n",
       "      <td>2020-10-01</td>\n",
       "      <td>Morning</td>\n",
       "      <td>WA</td>\n",
       "      <td>Kids</td>\n",
       "      <td>8</td>\n",
       "      <td>20000</td>\n",
       "    </tr>\n",
       "    <tr>\n",
       "      <th>1</th>\n",
       "      <td>2020-10-01</td>\n",
       "      <td>Morning</td>\n",
       "      <td>WA</td>\n",
       "      <td>Men</td>\n",
       "      <td>8</td>\n",
       "      <td>20000</td>\n",
       "    </tr>\n",
       "    <tr>\n",
       "      <th>2</th>\n",
       "      <td>2020-10-01</td>\n",
       "      <td>Morning</td>\n",
       "      <td>WA</td>\n",
       "      <td>Women</td>\n",
       "      <td>4</td>\n",
       "      <td>10000</td>\n",
       "    </tr>\n",
       "    <tr>\n",
       "      <th>3</th>\n",
       "      <td>2020-10-01</td>\n",
       "      <td>Morning</td>\n",
       "      <td>WA</td>\n",
       "      <td>Seniors</td>\n",
       "      <td>15</td>\n",
       "      <td>37500</td>\n",
       "    </tr>\n",
       "    <tr>\n",
       "      <th>4</th>\n",
       "      <td>2020-10-01</td>\n",
       "      <td>Afternoon</td>\n",
       "      <td>WA</td>\n",
       "      <td>Kids</td>\n",
       "      <td>3</td>\n",
       "      <td>7500</td>\n",
       "    </tr>\n",
       "    <tr>\n",
       "      <th>...</th>\n",
       "      <td>...</td>\n",
       "      <td>...</td>\n",
       "      <td>...</td>\n",
       "      <td>...</td>\n",
       "      <td>...</td>\n",
       "      <td>...</td>\n",
       "    </tr>\n",
       "    <tr>\n",
       "      <th>7555</th>\n",
       "      <td>2020-12-30</td>\n",
       "      <td>Afternoon</td>\n",
       "      <td>TAS</td>\n",
       "      <td>Seniors</td>\n",
       "      <td>14</td>\n",
       "      <td>35000</td>\n",
       "    </tr>\n",
       "    <tr>\n",
       "      <th>7556</th>\n",
       "      <td>2020-12-30</td>\n",
       "      <td>Evening</td>\n",
       "      <td>TAS</td>\n",
       "      <td>Kids</td>\n",
       "      <td>15</td>\n",
       "      <td>37500</td>\n",
       "    </tr>\n",
       "    <tr>\n",
       "      <th>7557</th>\n",
       "      <td>2020-12-30</td>\n",
       "      <td>Evening</td>\n",
       "      <td>TAS</td>\n",
       "      <td>Men</td>\n",
       "      <td>15</td>\n",
       "      <td>37500</td>\n",
       "    </tr>\n",
       "    <tr>\n",
       "      <th>7558</th>\n",
       "      <td>2020-12-30</td>\n",
       "      <td>Evening</td>\n",
       "      <td>TAS</td>\n",
       "      <td>Women</td>\n",
       "      <td>11</td>\n",
       "      <td>27500</td>\n",
       "    </tr>\n",
       "    <tr>\n",
       "      <th>7559</th>\n",
       "      <td>2020-12-30</td>\n",
       "      <td>Evening</td>\n",
       "      <td>TAS</td>\n",
       "      <td>Seniors</td>\n",
       "      <td>13</td>\n",
       "      <td>32500</td>\n",
       "    </tr>\n",
       "  </tbody>\n",
       "</table>\n",
       "<p>7560 rows × 6 columns</p>\n",
       "</div>\n",
       "      <button class=\"colab-df-convert\" onclick=\"convertToInteractive('df-bc9f85b3-60f3-4495-9bca-b321b638ca71')\"\n",
       "              title=\"Convert this dataframe to an interactive table.\"\n",
       "              style=\"display:none;\">\n",
       "        \n",
       "  <svg xmlns=\"http://www.w3.org/2000/svg\" height=\"24px\"viewBox=\"0 0 24 24\"\n",
       "       width=\"24px\">\n",
       "    <path d=\"M0 0h24v24H0V0z\" fill=\"none\"/>\n",
       "    <path d=\"M18.56 5.44l.94 2.06.94-2.06 2.06-.94-2.06-.94-.94-2.06-.94 2.06-2.06.94zm-11 1L8.5 8.5l.94-2.06 2.06-.94-2.06-.94L8.5 2.5l-.94 2.06-2.06.94zm10 10l.94 2.06.94-2.06 2.06-.94-2.06-.94-.94-2.06-.94 2.06-2.06.94z\"/><path d=\"M17.41 7.96l-1.37-1.37c-.4-.4-.92-.59-1.43-.59-.52 0-1.04.2-1.43.59L10.3 9.45l-7.72 7.72c-.78.78-.78 2.05 0 2.83L4 21.41c.39.39.9.59 1.41.59.51 0 1.02-.2 1.41-.59l7.78-7.78 2.81-2.81c.8-.78.8-2.07 0-2.86zM5.41 20L4 18.59l7.72-7.72 1.47 1.35L5.41 20z\"/>\n",
       "  </svg>\n",
       "      </button>\n",
       "      \n",
       "  <style>\n",
       "    .colab-df-container {\n",
       "      display:flex;\n",
       "      flex-wrap:wrap;\n",
       "      gap: 12px;\n",
       "    }\n",
       "\n",
       "    .colab-df-convert {\n",
       "      background-color: #E8F0FE;\n",
       "      border: none;\n",
       "      border-radius: 50%;\n",
       "      cursor: pointer;\n",
       "      display: none;\n",
       "      fill: #1967D2;\n",
       "      height: 32px;\n",
       "      padding: 0 0 0 0;\n",
       "      width: 32px;\n",
       "    }\n",
       "\n",
       "    .colab-df-convert:hover {\n",
       "      background-color: #E2EBFA;\n",
       "      box-shadow: 0px 1px 2px rgba(60, 64, 67, 0.3), 0px 1px 3px 1px rgba(60, 64, 67, 0.15);\n",
       "      fill: #174EA6;\n",
       "    }\n",
       "\n",
       "    [theme=dark] .colab-df-convert {\n",
       "      background-color: #3B4455;\n",
       "      fill: #D2E3FC;\n",
       "    }\n",
       "\n",
       "    [theme=dark] .colab-df-convert:hover {\n",
       "      background-color: #434B5C;\n",
       "      box-shadow: 0px 1px 3px 1px rgba(0, 0, 0, 0.15);\n",
       "      filter: drop-shadow(0px 1px 2px rgba(0, 0, 0, 0.3));\n",
       "      fill: #FFFFFF;\n",
       "    }\n",
       "  </style>\n",
       "\n",
       "      <script>\n",
       "        const buttonEl =\n",
       "          document.querySelector('#df-bc9f85b3-60f3-4495-9bca-b321b638ca71 button.colab-df-convert');\n",
       "        buttonEl.style.display =\n",
       "          google.colab.kernel.accessAllowed ? 'block' : 'none';\n",
       "\n",
       "        async function convertToInteractive(key) {\n",
       "          const element = document.querySelector('#df-bc9f85b3-60f3-4495-9bca-b321b638ca71');\n",
       "          const dataTable =\n",
       "            await google.colab.kernel.invokeFunction('convertToInteractive',\n",
       "                                                     [key], {});\n",
       "          if (!dataTable) return;\n",
       "\n",
       "          const docLinkHtml = 'Like what you see? Visit the ' +\n",
       "            '<a target=\"_blank\" href=https://colab.research.google.com/notebooks/data_table.ipynb>data table notebook</a>'\n",
       "            + ' to learn more about interactive tables.';\n",
       "          element.innerHTML = '';\n",
       "          dataTable['output_type'] = 'display_data';\n",
       "          await google.colab.output.renderOutput(dataTable, element);\n",
       "          const docLink = document.createElement('div');\n",
       "          docLink.innerHTML = docLinkHtml;\n",
       "          element.appendChild(docLink);\n",
       "        }\n",
       "      </script>\n",
       "    </div>\n",
       "  </div>\n",
       "  "
      ],
      "text/plain": [
       "           Date        Time State     Group  Unit  Sales\n",
       "0    2020-10-01     Morning    WA      Kids     8  20000\n",
       "1    2020-10-01     Morning    WA       Men     8  20000\n",
       "2    2020-10-01     Morning    WA     Women     4  10000\n",
       "3    2020-10-01     Morning    WA   Seniors    15  37500\n",
       "4    2020-10-01   Afternoon    WA      Kids     3   7500\n",
       "...         ...         ...   ...       ...   ...    ...\n",
       "7555 2020-12-30   Afternoon   TAS   Seniors    14  35000\n",
       "7556 2020-12-30     Evening   TAS      Kids    15  37500\n",
       "7557 2020-12-30     Evening   TAS       Men    15  37500\n",
       "7558 2020-12-30     Evening   TAS     Women    11  27500\n",
       "7559 2020-12-30     Evening   TAS   Seniors    13  32500\n",
       "\n",
       "[7560 rows x 6 columns]"
      ]
     },
     "execution_count": 48,
     "metadata": {},
     "output_type": "execute_result"
    }
   ],
   "source": [
    "df"
   ]
  },
  {
   "cell_type": "markdown",
   "metadata": {
    "id": "96_vFoGr-tvx"
   },
   "source": [
    "As you can see from the above, there are 7560 rows and 6 columns. On the left extreme column, you can see the index, **Date** column, beginning with *1-Oct-2020* and ending with 30-Dec-2020. **Time** column is the categorical data showing *Morning*, *Afternoon* and *Evening*. Likewise, **State** is the categorical data indicating the different states of Australia, **Group** is another Categorical Data with *Kids*, *Men*, *Women* and *Seniors*. Only **Unit** and **Sales** contain the numerical data.\n",
    "\n",
    "This report will be almost exclusively deals with the Sales and related data, and other data, if required, will be brought forward. \n",
    "\n",
    "Also, you can note that the data seems to be congrous, and missing or NA is not yet know. We are going to test for that now:"
   ]
  },
  {
   "cell_type": "code",
   "execution_count": 49,
   "metadata": {
    "colab": {
     "base_uri": "https://localhost:8080/"
    },
    "executionInfo": {
     "elapsed": 37,
     "status": "ok",
     "timestamp": 1643951905677,
     "user": {
      "displayName": "Altius Digital",
      "photoUrl": "https://lh3.googleusercontent.com/a-/AOh14Gg-jM7BssdeaRMMWYY-mmAR3qB9-8qGrJOINB1iwA=s64",
      "userId": "15775653459441703519"
     },
     "user_tz": -330
    },
    "id": "LTzNLSNbAvlm",
    "outputId": "d93d73e3-de04-4fc4-a4a9-7ea8aef37aa0"
   },
   "outputs": [
    {
     "data": {
      "text/plain": [
       "Date     0\n",
       "Time     0\n",
       "State    0\n",
       "Group    0\n",
       "Unit     0\n",
       "Sales    0\n",
       "dtype: int64"
      ]
     },
     "execution_count": 49,
     "metadata": {},
     "output_type": "execute_result"
    }
   ],
   "source": [
    "df.isna().sum()"
   ]
  },
  {
   "cell_type": "markdown",
   "metadata": {
    "id": "0Zy6D_u9BU3W"
   },
   "source": [
    "In the above step, we invoked ```isna()``` method on the dataframe object, and ```sum()``` method on the top of it. This shows number of NA, or missing values for each column of the dataframe. As you can see, for each column, the missing or NA values is 0. This gives us confidence of going ahead with the analysis, as the data seems to be clean."
   ]
  },
  {
   "cell_type": "code",
   "execution_count": 50,
   "metadata": {
    "colab": {
     "base_uri": "https://localhost:8080/"
    },
    "executionInfo": {
     "elapsed": 30,
     "status": "ok",
     "timestamp": 1643951905678,
     "user": {
      "displayName": "Altius Digital",
      "photoUrl": "https://lh3.googleusercontent.com/a-/AOh14Gg-jM7BssdeaRMMWYY-mmAR3qB9-8qGrJOINB1iwA=s64",
      "userId": "15775653459441703519"
     },
     "user_tz": -330
    },
    "id": "Ec-KoUQ1COE8",
    "outputId": "fc59a70b-80ae-4910-fd42-c755c2baacd7"
   },
   "outputs": [
    {
     "data": {
      "text/plain": [
       "Date     7560\n",
       "Time     7560\n",
       "State    7560\n",
       "Group    7560\n",
       "Unit     7560\n",
       "Sales    7560\n",
       "dtype: int64"
      ]
     },
     "execution_count": 50,
     "metadata": {},
     "output_type": "execute_result"
    }
   ],
   "source": [
    "df.notna().sum()"
   ]
  },
  {
   "cell_type": "markdown",
   "metadata": {
    "id": "ddsaVh8ZLX62"
   },
   "source": [
    "## Data Normalization\n",
    "For performing the data normalization, first of all, we need to separate the numerical and non numerica data. We will create a new dataframe called df_dataonly from the existing df object, as follows:"
   ]
  },
  {
   "cell_type": "code",
   "execution_count": 51,
   "metadata": {
    "executionInfo": {
     "elapsed": 27,
     "status": "ok",
     "timestamp": 1643951905678,
     "user": {
      "displayName": "Altius Digital",
      "photoUrl": "https://lh3.googleusercontent.com/a-/AOh14Gg-jM7BssdeaRMMWYY-mmAR3qB9-8qGrJOINB1iwA=s64",
      "userId": "15775653459441703519"
     },
     "user_tz": -330
    },
    "id": "GRTVKQT9Hj-t"
   },
   "outputs": [],
   "source": [
    "df_dataonly = df[['Unit', 'Sales']]"
   ]
  },
  {
   "cell_type": "markdown",
   "metadata": {
    "id": "0MHNG8leLyIg"
   },
   "source": [
    "\n",
    "\n",
    "```\n",
    "# This is formatted as code\n",
    "```\n",
    "\n",
    "Now, from the MinMaxScalar object, create a normalize object, as shown below:"
   ]
  },
  {
   "cell_type": "code",
   "execution_count": 52,
   "metadata": {
    "executionInfo": {
     "elapsed": 27,
     "status": "ok",
     "timestamp": 1643951905679,
     "user": {
      "displayName": "Altius Digital",
      "photoUrl": "https://lh3.googleusercontent.com/a-/AOh14Gg-jM7BssdeaRMMWYY-mmAR3qB9-8qGrJOINB1iwA=s64",
      "userId": "15775653459441703519"
     },
     "user_tz": -330
    },
    "id": "kZXRCgX8HzOd"
   },
   "outputs": [],
   "source": [
    "normalize = MinMaxScaler()"
   ]
  },
  {
   "cell_type": "markdown",
   "metadata": {
    "id": "vbicO818MAyA"
   },
   "source": [
    "Next, invoke the ```fit_transform()``` method, and pass this newly created object called ```df_dataonly```. Let's name the resulting object as ```normalize_data```."
   ]
  },
  {
   "cell_type": "code",
   "execution_count": 53,
   "metadata": {
    "executionInfo": {
     "elapsed": 38,
     "status": "ok",
     "timestamp": 1643951905690,
     "user": {
      "displayName": "Altius Digital",
      "photoUrl": "https://lh3.googleusercontent.com/a-/AOh14Gg-jM7BssdeaRMMWYY-mmAR3qB9-8qGrJOINB1iwA=s64",
      "userId": "15775653459441703519"
     },
     "user_tz": -330
    },
    "id": "HXmN16RRIA38"
   },
   "outputs": [],
   "source": [
    "normalize_data = normalize.fit_transform(df_dataonly)"
   ]
  },
  {
   "cell_type": "markdown",
   "metadata": {
    "id": "DDv3Fze0PQMB"
   },
   "source": [
    "As you can see, normalize_data object is a ndarray of 2 columns and 7560 rows. The first columns in the Unit, and the second column is the Sales data. The normalization will render normalize the data for each column between 0 and 1. You can test it as follows:\n",
    "\n",
    "```normalize_data[:, [0]]``` will list all the values of normailzed **Unit** values, while ```normalize_data[:, [1]]``` will list all the values of normalized **Sales** values."
   ]
  },
  {
   "cell_type": "code",
   "execution_count": 54,
   "metadata": {
    "colab": {
     "base_uri": "https://localhost:8080/"
    },
    "executionInfo": {
     "elapsed": 40,
     "status": "ok",
     "timestamp": 1643951905693,
     "user": {
      "displayName": "Altius Digital",
      "photoUrl": "https://lh3.googleusercontent.com/a-/AOh14Gg-jM7BssdeaRMMWYY-mmAR3qB9-8qGrJOINB1iwA=s64",
      "userId": "15775653459441703519"
     },
     "user_tz": -330
    },
    "id": "B9Dgbsx-IPtL",
    "outputId": "f63b86bf-e936-4054-bda8-b9170c61123f"
   },
   "outputs": [
    {
     "data": {
      "text/plain": [
       "array([[0.0952381 ],\n",
       "       [0.0952381 ],\n",
       "       [0.03174603],\n",
       "       ...,\n",
       "       [0.20634921],\n",
       "       [0.14285714],\n",
       "       [0.17460317]])"
      ]
     },
     "execution_count": 54,
     "metadata": {},
     "output_type": "execute_result"
    }
   ],
   "source": [
    "normalize_data[:, [0]]"
   ]
  },
  {
   "cell_type": "code",
   "execution_count": 55,
   "metadata": {
    "colab": {
     "base_uri": "https://localhost:8080/"
    },
    "executionInfo": {
     "elapsed": 60,
     "status": "ok",
     "timestamp": 1643951905717,
     "user": {
      "displayName": "Altius Digital",
      "photoUrl": "https://lh3.googleusercontent.com/a-/AOh14Gg-jM7BssdeaRMMWYY-mmAR3qB9-8qGrJOINB1iwA=s64",
      "userId": "15775653459441703519"
     },
     "user_tz": -330
    },
    "id": "9UglUZkhQN3k",
    "outputId": "dc0fe4d0-f2a4-41ea-b1b9-a1f0c2246f84"
   },
   "outputs": [
    {
     "data": {
      "text/plain": [
       "array([[0.0952381 ],\n",
       "       [0.0952381 ],\n",
       "       [0.03174603],\n",
       "       ...,\n",
       "       [0.20634921],\n",
       "       [0.14285714],\n",
       "       [0.17460317]])"
      ]
     },
     "execution_count": 55,
     "metadata": {},
     "output_type": "execute_result"
    }
   ],
   "source": [
    "normalize_data[:, [1]]"
   ]
  },
  {
   "cell_type": "markdown",
   "metadata": {
    "id": "jl-RyRFER7J8"
   },
   "source": [
    "Now, check the min and max values of each of the column. Min should be 0.0 and max should be 1.0, for **Unit** as well as **Sales** column. Let's print them as follows:"
   ]
  },
  {
   "cell_type": "code",
   "execution_count": 56,
   "metadata": {
    "colab": {
     "base_uri": "https://localhost:8080/"
    },
    "executionInfo": {
     "elapsed": 20,
     "status": "ok",
     "timestamp": 1643951906223,
     "user": {
      "displayName": "Altius Digital",
      "photoUrl": "https://lh3.googleusercontent.com/a-/AOh14Gg-jM7BssdeaRMMWYY-mmAR3qB9-8qGrJOINB1iwA=s64",
      "userId": "15775653459441703519"
     },
     "user_tz": -330
    },
    "id": "oi2Xu4flSOlo",
    "outputId": "e6b34fbb-6269-4a94-cb01-a04a41d725f4"
   },
   "outputs": [
    {
     "name": "stdout",
     "output_type": "stream",
     "text": [
      "0.0 0.9999999999999999\n"
     ]
    }
   ],
   "source": [
    "print(normalize_data[:, [0]].min(), normalize_data[:, [0]].max())"
   ]
  },
  {
   "cell_type": "code",
   "execution_count": 57,
   "metadata": {
    "colab": {
     "base_uri": "https://localhost:8080/"
    },
    "executionInfo": {
     "elapsed": 20,
     "status": "ok",
     "timestamp": 1643951906224,
     "user": {
      "displayName": "Altius Digital",
      "photoUrl": "https://lh3.googleusercontent.com/a-/AOh14Gg-jM7BssdeaRMMWYY-mmAR3qB9-8qGrJOINB1iwA=s64",
      "userId": "15775653459441703519"
     },
     "user_tz": -330
    },
    "id": "a-amS-sNSXux",
    "outputId": "d0e71633-92f4-485b-eab9-a7845e4161cd"
   },
   "outputs": [
    {
     "name": "stdout",
     "output_type": "stream",
     "text": [
      "0.0 1.0\n"
     ]
    }
   ],
   "source": [
    "print(normalize_data[:, [1]].min(), normalize_data[:, [1]].max())"
   ]
  },
  {
   "cell_type": "markdown",
   "metadata": {
    "id": "HjwXjiyOpUrk"
   },
   "source": [
    "## Top Level Picture\n",
    "Let's plot the Date versus Unit and Date versus Sales line plot for the entire season. Note the values of **Unit** and **Sales** are summed up for each day."
   ]
  },
  {
   "cell_type": "code",
   "execution_count": 58,
   "metadata": {
    "executionInfo": {
     "elapsed": 18,
     "status": "ok",
     "timestamp": 1643951906226,
     "user": {
      "displayName": "Altius Digital",
      "photoUrl": "https://lh3.googleusercontent.com/a-/AOh14Gg-jM7BssdeaRMMWYY-mmAR3qB9-8qGrJOINB1iwA=s64",
      "userId": "15775653459441703519"
     },
     "user_tz": -330
    },
    "id": "zM56RjbQqGwk"
   },
   "outputs": [],
   "source": [
    "dates = df['Date']\n",
    "# df.groupby(by='Date').count()\n",
    "df_unit_and_sales = df.groupby(by='Date', axis='index').sum()"
   ]
  },
  {
   "cell_type": "code",
   "execution_count": 59,
   "metadata": {
    "colab": {
     "base_uri": "https://localhost:8080/",
     "height": 455
    },
    "executionInfo": {
     "elapsed": 20,
     "status": "ok",
     "timestamp": 1643951906228,
     "user": {
      "displayName": "Altius Digital",
      "photoUrl": "https://lh3.googleusercontent.com/a-/AOh14Gg-jM7BssdeaRMMWYY-mmAR3qB9-8qGrJOINB1iwA=s64",
      "userId": "15775653459441703519"
     },
     "user_tz": -330
    },
    "id": "B9y-Mz2QyefG",
    "outputId": "15263ef0-fa86-4508-c8b9-668b973a511d"
   },
   "outputs": [
    {
     "data": {
      "text/html": [
       "\n",
       "  <div id=\"df-271892a1-1796-4810-a196-53ec5cfee663\">\n",
       "    <div class=\"colab-df-container\">\n",
       "      <div>\n",
       "<style scoped>\n",
       "    .dataframe tbody tr th:only-of-type {\n",
       "        vertical-align: middle;\n",
       "    }\n",
       "\n",
       "    .dataframe tbody tr th {\n",
       "        vertical-align: top;\n",
       "    }\n",
       "\n",
       "    .dataframe thead th {\n",
       "        text-align: right;\n",
       "    }\n",
       "</style>\n",
       "<table border=\"1\" class=\"dataframe\">\n",
       "  <thead>\n",
       "    <tr style=\"text-align: right;\">\n",
       "      <th></th>\n",
       "      <th>Unit</th>\n",
       "      <th>Sales</th>\n",
       "    </tr>\n",
       "    <tr>\n",
       "      <th>Date</th>\n",
       "      <th></th>\n",
       "      <th></th>\n",
       "    </tr>\n",
       "  </thead>\n",
       "  <tbody>\n",
       "    <tr>\n",
       "      <th>2020-10-01</th>\n",
       "      <td>1488</td>\n",
       "      <td>3720000</td>\n",
       "    </tr>\n",
       "    <tr>\n",
       "      <th>2020-10-02</th>\n",
       "      <td>1486</td>\n",
       "      <td>3715000</td>\n",
       "    </tr>\n",
       "    <tr>\n",
       "      <th>2020-10-03</th>\n",
       "      <td>1556</td>\n",
       "      <td>3890000</td>\n",
       "    </tr>\n",
       "    <tr>\n",
       "      <th>2020-10-04</th>\n",
       "      <td>1488</td>\n",
       "      <td>3720000</td>\n",
       "    </tr>\n",
       "    <tr>\n",
       "      <th>2020-10-05</th>\n",
       "      <td>1545</td>\n",
       "      <td>3862500</td>\n",
       "    </tr>\n",
       "    <tr>\n",
       "      <th>...</th>\n",
       "      <td>...</td>\n",
       "      <td>...</td>\n",
       "    </tr>\n",
       "    <tr>\n",
       "      <th>2020-12-26</th>\n",
       "      <td>1886</td>\n",
       "      <td>4715000</td>\n",
       "    </tr>\n",
       "    <tr>\n",
       "      <th>2020-12-27</th>\n",
       "      <td>1855</td>\n",
       "      <td>4637500</td>\n",
       "    </tr>\n",
       "    <tr>\n",
       "      <th>2020-12-28</th>\n",
       "      <td>1838</td>\n",
       "      <td>4595000</td>\n",
       "    </tr>\n",
       "    <tr>\n",
       "      <th>2020-12-29</th>\n",
       "      <td>1843</td>\n",
       "      <td>4607500</td>\n",
       "    </tr>\n",
       "    <tr>\n",
       "      <th>2020-12-30</th>\n",
       "      <td>1836</td>\n",
       "      <td>4590000</td>\n",
       "    </tr>\n",
       "  </tbody>\n",
       "</table>\n",
       "<p>90 rows × 2 columns</p>\n",
       "</div>\n",
       "      <button class=\"colab-df-convert\" onclick=\"convertToInteractive('df-271892a1-1796-4810-a196-53ec5cfee663')\"\n",
       "              title=\"Convert this dataframe to an interactive table.\"\n",
       "              style=\"display:none;\">\n",
       "        \n",
       "  <svg xmlns=\"http://www.w3.org/2000/svg\" height=\"24px\"viewBox=\"0 0 24 24\"\n",
       "       width=\"24px\">\n",
       "    <path d=\"M0 0h24v24H0V0z\" fill=\"none\"/>\n",
       "    <path d=\"M18.56 5.44l.94 2.06.94-2.06 2.06-.94-2.06-.94-.94-2.06-.94 2.06-2.06.94zm-11 1L8.5 8.5l.94-2.06 2.06-.94-2.06-.94L8.5 2.5l-.94 2.06-2.06.94zm10 10l.94 2.06.94-2.06 2.06-.94-2.06-.94-.94-2.06-.94 2.06-2.06.94z\"/><path d=\"M17.41 7.96l-1.37-1.37c-.4-.4-.92-.59-1.43-.59-.52 0-1.04.2-1.43.59L10.3 9.45l-7.72 7.72c-.78.78-.78 2.05 0 2.83L4 21.41c.39.39.9.59 1.41.59.51 0 1.02-.2 1.41-.59l7.78-7.78 2.81-2.81c.8-.78.8-2.07 0-2.86zM5.41 20L4 18.59l7.72-7.72 1.47 1.35L5.41 20z\"/>\n",
       "  </svg>\n",
       "      </button>\n",
       "      \n",
       "  <style>\n",
       "    .colab-df-container {\n",
       "      display:flex;\n",
       "      flex-wrap:wrap;\n",
       "      gap: 12px;\n",
       "    }\n",
       "\n",
       "    .colab-df-convert {\n",
       "      background-color: #E8F0FE;\n",
       "      border: none;\n",
       "      border-radius: 50%;\n",
       "      cursor: pointer;\n",
       "      display: none;\n",
       "      fill: #1967D2;\n",
       "      height: 32px;\n",
       "      padding: 0 0 0 0;\n",
       "      width: 32px;\n",
       "    }\n",
       "\n",
       "    .colab-df-convert:hover {\n",
       "      background-color: #E2EBFA;\n",
       "      box-shadow: 0px 1px 2px rgba(60, 64, 67, 0.3), 0px 1px 3px 1px rgba(60, 64, 67, 0.15);\n",
       "      fill: #174EA6;\n",
       "    }\n",
       "\n",
       "    [theme=dark] .colab-df-convert {\n",
       "      background-color: #3B4455;\n",
       "      fill: #D2E3FC;\n",
       "    }\n",
       "\n",
       "    [theme=dark] .colab-df-convert:hover {\n",
       "      background-color: #434B5C;\n",
       "      box-shadow: 0px 1px 3px 1px rgba(0, 0, 0, 0.15);\n",
       "      filter: drop-shadow(0px 1px 2px rgba(0, 0, 0, 0.3));\n",
       "      fill: #FFFFFF;\n",
       "    }\n",
       "  </style>\n",
       "\n",
       "      <script>\n",
       "        const buttonEl =\n",
       "          document.querySelector('#df-271892a1-1796-4810-a196-53ec5cfee663 button.colab-df-convert');\n",
       "        buttonEl.style.display =\n",
       "          google.colab.kernel.accessAllowed ? 'block' : 'none';\n",
       "\n",
       "        async function convertToInteractive(key) {\n",
       "          const element = document.querySelector('#df-271892a1-1796-4810-a196-53ec5cfee663');\n",
       "          const dataTable =\n",
       "            await google.colab.kernel.invokeFunction('convertToInteractive',\n",
       "                                                     [key], {});\n",
       "          if (!dataTable) return;\n",
       "\n",
       "          const docLinkHtml = 'Like what you see? Visit the ' +\n",
       "            '<a target=\"_blank\" href=https://colab.research.google.com/notebooks/data_table.ipynb>data table notebook</a>'\n",
       "            + ' to learn more about interactive tables.';\n",
       "          element.innerHTML = '';\n",
       "          dataTable['output_type'] = 'display_data';\n",
       "          await google.colab.output.renderOutput(dataTable, element);\n",
       "          const docLink = document.createElement('div');\n",
       "          docLink.innerHTML = docLinkHtml;\n",
       "          element.appendChild(docLink);\n",
       "        }\n",
       "      </script>\n",
       "    </div>\n",
       "  </div>\n",
       "  "
      ],
      "text/plain": [
       "            Unit    Sales\n",
       "Date                     \n",
       "2020-10-01  1488  3720000\n",
       "2020-10-02  1486  3715000\n",
       "2020-10-03  1556  3890000\n",
       "2020-10-04  1488  3720000\n",
       "2020-10-05  1545  3862500\n",
       "...          ...      ...\n",
       "2020-12-26  1886  4715000\n",
       "2020-12-27  1855  4637500\n",
       "2020-12-28  1838  4595000\n",
       "2020-12-29  1843  4607500\n",
       "2020-12-30  1836  4590000\n",
       "\n",
       "[90 rows x 2 columns]"
      ]
     },
     "execution_count": 59,
     "metadata": {},
     "output_type": "execute_result"
    }
   ],
   "source": [
    "df_unit_and_sales"
   ]
  },
  {
   "cell_type": "markdown",
   "metadata": {
    "id": "dFV-oCmb3-JY"
   },
   "source": [
    "\n",
    "## Monthly Data Analysis\n",
    "Now, let's chunk this quarterly data into monthly data and perform the analysis. For each of the month, let's get the sub-dataframe, using the ```loc``` feature of dataframe, and pass the range by date. For example, for the month of October, the range for ```loc``` will be ```'2020-10-01':'2020-10-30'```, and we will be capruting it as ```df_dec```. Similarly, for the month of November and December, we have sub-dataframe objects ```df_nov``` and ```df.dec```. These are shown in the next 3 steps."
   ]
  },
  {
   "cell_type": "code",
   "execution_count": 60,
   "metadata": {
    "executionInfo": {
     "elapsed": 17,
     "status": "ok",
     "timestamp": 1643951906228,
     "user": {
      "displayName": "Altius Digital",
      "photoUrl": "https://lh3.googleusercontent.com/a-/AOh14Gg-jM7BssdeaRMMWYY-mmAR3qB9-8qGrJOINB1iwA=s64",
      "userId": "15775653459441703519"
     },
     "user_tz": -330
    },
    "id": "z3518_2o4x-5"
   },
   "outputs": [],
   "source": [
    "df_oct = df_unit_and_sales.loc['2020-10-01':'2020-10-30']"
   ]
  },
  {
   "cell_type": "code",
   "execution_count": 61,
   "metadata": {
    "executionInfo": {
     "elapsed": 18,
     "status": "ok",
     "timestamp": 1643951906229,
     "user": {
      "displayName": "Altius Digital",
      "photoUrl": "https://lh3.googleusercontent.com/a-/AOh14Gg-jM7BssdeaRMMWYY-mmAR3qB9-8qGrJOINB1iwA=s64",
      "userId": "15775653459441703519"
     },
     "user_tz": -330
    },
    "id": "YxDILekjK-LE"
   },
   "outputs": [],
   "source": [
    "df_nov = df_unit_and_sales.loc['2020-11-01':'2020-11-30']"
   ]
  },
  {
   "cell_type": "code",
   "execution_count": 62,
   "metadata": {
    "executionInfo": {
     "elapsed": 19,
     "status": "ok",
     "timestamp": 1643951906230,
     "user": {
      "displayName": "Altius Digital",
      "photoUrl": "https://lh3.googleusercontent.com/a-/AOh14Gg-jM7BssdeaRMMWYY-mmAR3qB9-8qGrJOINB1iwA=s64",
      "userId": "15775653459441703519"
     },
     "user_tz": -330
    },
    "id": "eXvW7BJGLFHK"
   },
   "outputs": [],
   "source": [
    "df_dec = df_unit_and_sales.loc['2020-12-01':'2020-12-31']"
   ]
  },
  {
   "cell_type": "code",
   "execution_count": 63,
   "metadata": {
    "colab": {
     "base_uri": "https://localhost:8080/",
     "height": 519
    },
    "executionInfo": {
     "elapsed": 1208,
     "status": "ok",
     "timestamp": 1643951907420,
     "user": {
      "displayName": "Altius Digital",
      "photoUrl": "https://lh3.googleusercontent.com/a-/AOh14Gg-jM7BssdeaRMMWYY-mmAR3qB9-8qGrJOINB1iwA=s64",
      "userId": "15775653459441703519"
     },
     "user_tz": -330
    },
    "id": "aMpdAvrSLNgX",
    "outputId": "794a3551-66de-4d65-b502-10fbe7b50304"
   },
   "outputs": [
    {
     "data": {
      "text/plain": [
       "<matplotlib.axes._subplots.AxesSubplot at 0x7fb8cad51e90>"
      ]
     },
     "execution_count": 63,
     "metadata": {},
     "output_type": "execute_result"
    },
    {
     "data": {
      "image/png": "[encoded data removed]",
      "text/plain": [
       "<Figure size 1440x576 with 1 Axes>"
      ]
     },
     "metadata": {},
     "output_type": "display_data"
    }
   ],
   "source": [
    "# df_oct.plot.bar(y='Unit')\n",
    "df_oct.index\n",
    "sns.barplot(x = df_oct.index, y = 'Unit', data=df_oct)"
   ]
  },
  {
   "cell_type": "code",
   "execution_count": 64,
   "metadata": {
    "colab": {
     "base_uri": "https://localhost:8080/",
     "height": 519
    },
    "executionInfo": {
     "elapsed": 1359,
     "status": "ok",
     "timestamp": 1643951908761,
     "user": {
      "displayName": "Altius Digital",
      "photoUrl": "https://lh3.googleusercontent.com/a-/AOh14Gg-jM7BssdeaRMMWYY-mmAR3qB9-8qGrJOINB1iwA=s64",
      "userId": "15775653459441703519"
     },
     "user_tz": -330
    },
    "id": "qZ_ayqlwNQFc",
    "outputId": "e22454b7-6a00-407c-8f20-69af697763b5"
   },
   "outputs": [
    {
     "data": {
      "text/plain": [
       "<matplotlib.axes._subplots.AxesSubplot at 0x7fb8ccdf5dd0>"
      ]
     },
     "execution_count": 64,
     "metadata": {},
     "output_type": "execute_result"
    },
    {
     "data": {
      "image/png": "[encoded data removed]",
      "text/plain": [
       "<Figure size 1440x576 with 1 Axes>"
      ]
     },
     "metadata": {},
     "output_type": "display_data"
    }
   ],
   "source": [
    "sns.lineplot(x = df_nov.index, y='Unit', data=df_nov)"
   ]
  },
  {
   "cell_type": "code",
   "execution_count": 65,
   "metadata": {
    "colab": {
     "base_uri": "https://localhost:8080/",
     "height": 523
    },
    "executionInfo": {
     "elapsed": 88,
     "status": "ok",
     "timestamp": 1643951908762,
     "user": {
      "displayName": "Altius Digital",
      "photoUrl": "https://lh3.googleusercontent.com/a-/AOh14Gg-jM7BssdeaRMMWYY-mmAR3qB9-8qGrJOINB1iwA=s64",
      "userId": "15775653459441703519"
     },
     "user_tz": -330
    },
    "id": "GaD62E7lNZfD",
    "outputId": "b7f65b25-9542-41b8-d34d-17a5c0b31627"
   },
   "outputs": [
    {
     "data": {
      "text/plain": [
       "<matplotlib.axes._subplots.AxesSubplot at 0x7fb8ccd10610>"
      ]
     },
     "execution_count": 65,
     "metadata": {},
     "output_type": "execute_result"
    },
    {
     "data": {
      "image/png": "[encoded data removed]",
      "text/plain": [
       "<Figure size 1440x576 with 1 Axes>"
      ]
     },
     "metadata": {},
     "output_type": "display_data"
    }
   ],
   "source": [
    "sns.barplot(x = df_dec.index, y = 'Unit', data=df_dec)"
   ]
  },
  {
   "cell_type": "markdown",
   "metadata": {
    "id": "J3R6oEoWPVEZ"
   },
   "source": [
    "## Describing Data\n",
    "### Data Description\n",
    "Describing the data will give you the very first level information on the data with the basic information on the data such as ```count```, ```mean```, ```std``` (standard deviation), ```min```, ```max``` and the quartiles. You will use the ```describe()``` command on the dataframe to get it. All the values are for the entire three month period."
   ]
  },
  {
   "cell_type": "code",
   "execution_count": 66,
   "metadata": {
    "colab": {
     "base_uri": "https://localhost:8080/",
     "height": 300
    },
    "executionInfo": {
     "elapsed": 77,
     "status": "ok",
     "timestamp": 1643951908762,
     "user": {
      "displayName": "Altius Digital",
      "photoUrl": "https://lh3.googleusercontent.com/a-/AOh14Gg-jM7BssdeaRMMWYY-mmAR3qB9-8qGrJOINB1iwA=s64",
      "userId": "15775653459441703519"
     },
     "user_tz": -330
    },
    "id": "SPjSgNOyNivj",
    "outputId": "e3a43f00-86aa-433b-be7e-1b277d9305fd"
   },
   "outputs": [
    {
     "data": {
      "text/html": [
       "\n",
       "  <div id=\"df-8e1c0dd5-6ac2-485e-8b56-331186ad4890\">\n",
       "    <div class=\"colab-df-container\">\n",
       "      <div>\n",
       "<style scoped>\n",
       "    .dataframe tbody tr th:only-of-type {\n",
       "        vertical-align: middle;\n",
       "    }\n",
       "\n",
       "    .dataframe tbody tr th {\n",
       "        vertical-align: top;\n",
       "    }\n",
       "\n",
       "    .dataframe thead th {\n",
       "        text-align: right;\n",
       "    }\n",
       "</style>\n",
       "<table border=\"1\" class=\"dataframe\">\n",
       "  <thead>\n",
       "    <tr style=\"text-align: right;\">\n",
       "      <th></th>\n",
       "      <th>Unit</th>\n",
       "      <th>Sales</th>\n",
       "    </tr>\n",
       "  </thead>\n",
       "  <tbody>\n",
       "    <tr>\n",
       "      <th>count</th>\n",
       "      <td>7560.000000</td>\n",
       "      <td>7560.000000</td>\n",
       "    </tr>\n",
       "    <tr>\n",
       "      <th>mean</th>\n",
       "      <td>18.005423</td>\n",
       "      <td>45013.558201</td>\n",
       "    </tr>\n",
       "    <tr>\n",
       "      <th>std</th>\n",
       "      <td>12.901403</td>\n",
       "      <td>32253.506944</td>\n",
       "    </tr>\n",
       "    <tr>\n",
       "      <th>min</th>\n",
       "      <td>2.000000</td>\n",
       "      <td>5000.000000</td>\n",
       "    </tr>\n",
       "    <tr>\n",
       "      <th>25%</th>\n",
       "      <td>8.000000</td>\n",
       "      <td>20000.000000</td>\n",
       "    </tr>\n",
       "    <tr>\n",
       "      <th>50%</th>\n",
       "      <td>14.000000</td>\n",
       "      <td>35000.000000</td>\n",
       "    </tr>\n",
       "    <tr>\n",
       "      <th>75%</th>\n",
       "      <td>26.000000</td>\n",
       "      <td>65000.000000</td>\n",
       "    </tr>\n",
       "    <tr>\n",
       "      <th>max</th>\n",
       "      <td>65.000000</td>\n",
       "      <td>162500.000000</td>\n",
       "    </tr>\n",
       "  </tbody>\n",
       "</table>\n",
       "</div>\n",
       "      <button class=\"colab-df-convert\" onclick=\"convertToInteractive('df-8e1c0dd5-6ac2-485e-8b56-331186ad4890')\"\n",
       "              title=\"Convert this dataframe to an interactive table.\"\n",
       "              style=\"display:none;\">\n",
       "        \n",
       "  <svg xmlns=\"http://www.w3.org/2000/svg\" height=\"24px\"viewBox=\"0 0 24 24\"\n",
       "       width=\"24px\">\n",
       "    <path d=\"M0 0h24v24H0V0z\" fill=\"none\"/>\n",
       "    <path d=\"M18.56 5.44l.94 2.06.94-2.06 2.06-.94-2.06-.94-.94-2.06-.94 2.06-2.06.94zm-11 1L8.5 8.5l.94-2.06 2.06-.94-2.06-.94L8.5 2.5l-.94 2.06-2.06.94zm10 10l.94 2.06.94-2.06 2.06-.94-2.06-.94-.94-2.06-.94 2.06-2.06.94z\"/><path d=\"M17.41 7.96l-1.37-1.37c-.4-.4-.92-.59-1.43-.59-.52 0-1.04.2-1.43.59L10.3 9.45l-7.72 7.72c-.78.78-.78 2.05 0 2.83L4 21.41c.39.39.9.59 1.41.59.51 0 1.02-.2 1.41-.59l7.78-7.78 2.81-2.81c.8-.78.8-2.07 0-2.86zM5.41 20L4 18.59l7.72-7.72 1.47 1.35L5.41 20z\"/>\n",
       "  </svg>\n",
       "      </button>\n",
       "      \n",
       "  <style>\n",
       "    .colab-df-container {\n",
       "      display:flex;\n",
       "      flex-wrap:wrap;\n",
       "      gap: 12px;\n",
       "    }\n",
       "\n",
       "    .colab-df-convert {\n",
       "      background-color: #E8F0FE;\n",
       "      border: none;\n",
       "      border-radius: 50%;\n",
       "      cursor: pointer;\n",
       "      display: none;\n",
       "      fill: #1967D2;\n",
       "      height: 32px;\n",
       "      padding: 0 0 0 0;\n",
       "      width: 32px;\n",
       "    }\n",
       "\n",
       "    .colab-df-convert:hover {\n",
       "      background-color: #E2EBFA;\n",
       "      box-shadow: 0px 1px 2px rgba(60, 64, 67, 0.3), 0px 1px 3px 1px rgba(60, 64, 67, 0.15);\n",
       "      fill: #174EA6;\n",
       "    }\n",
       "\n",
       "    [theme=dark] .colab-df-convert {\n",
       "      background-color: #3B4455;\n",
       "      fill: #D2E3FC;\n",
       "    }\n",
       "\n",
       "    [theme=dark] .colab-df-convert:hover {\n",
       "      background-color: #434B5C;\n",
       "      box-shadow: 0px 1px 3px 1px rgba(0, 0, 0, 0.15);\n",
       "      filter: drop-shadow(0px 1px 2px rgba(0, 0, 0, 0.3));\n",
       "      fill: #FFFFFF;\n",
       "    }\n",
       "  </style>\n",
       "\n",
       "      <script>\n",
       "        const buttonEl =\n",
       "          document.querySelector('#df-8e1c0dd5-6ac2-485e-8b56-331186ad4890 button.colab-df-convert');\n",
       "        buttonEl.style.display =\n",
       "          google.colab.kernel.accessAllowed ? 'block' : 'none';\n",
       "\n",
       "        async function convertToInteractive(key) {\n",
       "          const element = document.querySelector('#df-8e1c0dd5-6ac2-485e-8b56-331186ad4890');\n",
       "          const dataTable =\n",
       "            await google.colab.kernel.invokeFunction('convertToInteractive',\n",
       "                                                     [key], {});\n",
       "          if (!dataTable) return;\n",
       "\n",
       "          const docLinkHtml = 'Like what you see? Visit the ' +\n",
       "            '<a target=\"_blank\" href=https://colab.research.google.com/notebooks/data_table.ipynb>data table notebook</a>'\n",
       "            + ' to learn more about interactive tables.';\n",
       "          element.innerHTML = '';\n",
       "          dataTable['output_type'] = 'display_data';\n",
       "          await google.colab.output.renderOutput(dataTable, element);\n",
       "          const docLink = document.createElement('div');\n",
       "          docLink.innerHTML = docLinkHtml;\n",
       "          element.appendChild(docLink);\n",
       "        }\n",
       "      </script>\n",
       "    </div>\n",
       "  </div>\n",
       "  "
      ],
      "text/plain": [
       "              Unit          Sales\n",
       "count  7560.000000    7560.000000\n",
       "mean     18.005423   45013.558201\n",
       "std      12.901403   32253.506944\n",
       "min       2.000000    5000.000000\n",
       "25%       8.000000   20000.000000\n",
       "50%      14.000000   35000.000000\n",
       "75%      26.000000   65000.000000\n",
       "max      65.000000  162500.000000"
      ]
     },
     "execution_count": 66,
     "metadata": {},
     "output_type": "execute_result"
    }
   ],
   "source": [
    "df.describe()"
   ]
  },
  {
   "cell_type": "markdown",
   "metadata": {
    "id": "briWKhpwQVvG"
   },
   "source": [
    "For individual three months, we can invole ```describe()``` on ```df_oct```, ```df_nov``` and ```df_dec```, as shown:"
   ]
  },
  {
   "cell_type": "code",
   "execution_count": 67,
   "metadata": {
    "colab": {
     "base_uri": "https://localhost:8080/",
     "height": 300
    },
    "executionInfo": {
     "elapsed": 76,
     "status": "ok",
     "timestamp": 1643951908763,
     "user": {
      "displayName": "Altius Digital",
      "photoUrl": "https://lh3.googleusercontent.com/a-/AOh14Gg-jM7BssdeaRMMWYY-mmAR3qB9-8qGrJOINB1iwA=s64",
      "userId": "15775653459441703519"
     },
     "user_tz": -330
    },
    "id": "9vNsyZseQoxT",
    "outputId": "de15f1a4-9cae-4c37-9fd1-4b5bdf48e7f0"
   },
   "outputs": [
    {
     "data": {
      "text/html": [
       "\n",
       "  <div id=\"df-742aefad-7e88-4f1a-ace0-2efc4d2c11a9\">\n",
       "    <div class=\"colab-df-container\">\n",
       "      <div>\n",
       "<style scoped>\n",
       "    .dataframe tbody tr th:only-of-type {\n",
       "        vertical-align: middle;\n",
       "    }\n",
       "\n",
       "    .dataframe tbody tr th {\n",
       "        vertical-align: top;\n",
       "    }\n",
       "\n",
       "    .dataframe thead th {\n",
       "        text-align: right;\n",
       "    }\n",
       "</style>\n",
       "<table border=\"1\" class=\"dataframe\">\n",
       "  <thead>\n",
       "    <tr style=\"text-align: right;\">\n",
       "      <th></th>\n",
       "      <th>Unit</th>\n",
       "      <th>Sales</th>\n",
       "    </tr>\n",
       "  </thead>\n",
       "  <tbody>\n",
       "    <tr>\n",
       "      <th>count</th>\n",
       "      <td>30.000000</td>\n",
       "      <td>3.000000e+01</td>\n",
       "    </tr>\n",
       "    <tr>\n",
       "      <th>mean</th>\n",
       "      <td>1523.866667</td>\n",
       "      <td>3.809667e+06</td>\n",
       "    </tr>\n",
       "    <tr>\n",
       "      <th>std</th>\n",
       "      <td>43.041867</td>\n",
       "      <td>1.076047e+05</td>\n",
       "    </tr>\n",
       "    <tr>\n",
       "      <th>min</th>\n",
       "      <td>1458.000000</td>\n",
       "      <td>3.645000e+06</td>\n",
       "    </tr>\n",
       "    <tr>\n",
       "      <th>25%</th>\n",
       "      <td>1487.250000</td>\n",
       "      <td>3.718125e+06</td>\n",
       "    </tr>\n",
       "    <tr>\n",
       "      <th>50%</th>\n",
       "      <td>1519.500000</td>\n",
       "      <td>3.798750e+06</td>\n",
       "    </tr>\n",
       "    <tr>\n",
       "      <th>75%</th>\n",
       "      <td>1554.500000</td>\n",
       "      <td>3.886250e+06</td>\n",
       "    </tr>\n",
       "    <tr>\n",
       "      <th>max</th>\n",
       "      <td>1602.000000</td>\n",
       "      <td>4.005000e+06</td>\n",
       "    </tr>\n",
       "  </tbody>\n",
       "</table>\n",
       "</div>\n",
       "      <button class=\"colab-df-convert\" onclick=\"convertToInteractive('df-742aefad-7e88-4f1a-ace0-2efc4d2c11a9')\"\n",
       "              title=\"Convert this dataframe to an interactive table.\"\n",
       "              style=\"display:none;\">\n",
       "        \n",
       "  <svg xmlns=\"http://www.w3.org/2000/svg\" height=\"24px\"viewBox=\"0 0 24 24\"\n",
       "       width=\"24px\">\n",
       "    <path d=\"M0 0h24v24H0V0z\" fill=\"none\"/>\n",
       "    <path d=\"M18.56 5.44l.94 2.06.94-2.06 2.06-.94-2.06-.94-.94-2.06-.94 2.06-2.06.94zm-11 1L8.5 8.5l.94-2.06 2.06-.94-2.06-.94L8.5 2.5l-.94 2.06-2.06.94zm10 10l.94 2.06.94-2.06 2.06-.94-2.06-.94-.94-2.06-.94 2.06-2.06.94z\"/><path d=\"M17.41 7.96l-1.37-1.37c-.4-.4-.92-.59-1.43-.59-.52 0-1.04.2-1.43.59L10.3 9.45l-7.72 7.72c-.78.78-.78 2.05 0 2.83L4 21.41c.39.39.9.59 1.41.59.51 0 1.02-.2 1.41-.59l7.78-7.78 2.81-2.81c.8-.78.8-2.07 0-2.86zM5.41 20L4 18.59l7.72-7.72 1.47 1.35L5.41 20z\"/>\n",
       "  </svg>\n",
       "      </button>\n",
       "      \n",
       "  <style>\n",
       "    .colab-df-container {\n",
       "      display:flex;\n",
       "      flex-wrap:wrap;\n",
       "      gap: 12px;\n",
       "    }\n",
       "\n",
       "    .colab-df-convert {\n",
       "      background-color: #E8F0FE;\n",
       "      border: none;\n",
       "      border-radius: 50%;\n",
       "      cursor: pointer;\n",
       "      display: none;\n",
       "      fill: #1967D2;\n",
       "      height: 32px;\n",
       "      padding: 0 0 0 0;\n",
       "      width: 32px;\n",
       "    }\n",
       "\n",
       "    .colab-df-convert:hover {\n",
       "      background-color: #E2EBFA;\n",
       "      box-shadow: 0px 1px 2px rgba(60, 64, 67, 0.3), 0px 1px 3px 1px rgba(60, 64, 67, 0.15);\n",
       "      fill: #174EA6;\n",
       "    }\n",
       "\n",
       "    [theme=dark] .colab-df-convert {\n",
       "      background-color: #3B4455;\n",
       "      fill: #D2E3FC;\n",
       "    }\n",
       "\n",
       "    [theme=dark] .colab-df-convert:hover {\n",
       "      background-color: #434B5C;\n",
       "      box-shadow: 0px 1px 3px 1px rgba(0, 0, 0, 0.15);\n",
       "      filter: drop-shadow(0px 1px 2px rgba(0, 0, 0, 0.3));\n",
       "      fill: #FFFFFF;\n",
       "    }\n",
       "  </style>\n",
       "\n",
       "      <script>\n",
       "        const buttonEl =\n",
       "          document.querySelector('#df-742aefad-7e88-4f1a-ace0-2efc4d2c11a9 button.colab-df-convert');\n",
       "        buttonEl.style.display =\n",
       "          google.colab.kernel.accessAllowed ? 'block' : 'none';\n",
       "\n",
       "        async function convertToInteractive(key) {\n",
       "          const element = document.querySelector('#df-742aefad-7e88-4f1a-ace0-2efc4d2c11a9');\n",
       "          const dataTable =\n",
       "            await google.colab.kernel.invokeFunction('convertToInteractive',\n",
       "                                                     [key], {});\n",
       "          if (!dataTable) return;\n",
       "\n",
       "          const docLinkHtml = 'Like what you see? Visit the ' +\n",
       "            '<a target=\"_blank\" href=https://colab.research.google.com/notebooks/data_table.ipynb>data table notebook</a>'\n",
       "            + ' to learn more about interactive tables.';\n",
       "          element.innerHTML = '';\n",
       "          dataTable['output_type'] = 'display_data';\n",
       "          await google.colab.output.renderOutput(dataTable, element);\n",
       "          const docLink = document.createElement('div');\n",
       "          docLink.innerHTML = docLinkHtml;\n",
       "          element.appendChild(docLink);\n",
       "        }\n",
       "      </script>\n",
       "    </div>\n",
       "  </div>\n",
       "  "
      ],
      "text/plain": [
       "              Unit         Sales\n",
       "count    30.000000  3.000000e+01\n",
       "mean   1523.866667  3.809667e+06\n",
       "std      43.041867  1.076047e+05\n",
       "min    1458.000000  3.645000e+06\n",
       "25%    1487.250000  3.718125e+06\n",
       "50%    1519.500000  3.798750e+06\n",
       "75%    1554.500000  3.886250e+06\n",
       "max    1602.000000  4.005000e+06"
      ]
     },
     "execution_count": 67,
     "metadata": {},
     "output_type": "execute_result"
    }
   ],
   "source": [
    "df_oct.describe()"
   ]
  },
  {
   "cell_type": "code",
   "execution_count": 68,
   "metadata": {
    "colab": {
     "base_uri": "https://localhost:8080/",
     "height": 300
    },
    "executionInfo": {
     "elapsed": 74,
     "status": "ok",
     "timestamp": 1643951908764,
     "user": {
      "displayName": "Altius Digital",
      "photoUrl": "https://lh3.googleusercontent.com/a-/AOh14Gg-jM7BssdeaRMMWYY-mmAR3qB9-8qGrJOINB1iwA=s64",
      "userId": "15775653459441703519"
     },
     "user_tz": -330
    },
    "id": "sjMcK6uuQuCa",
    "outputId": "937e7fe6-f041-42dd-8b72-3b49a983f5c6"
   },
   "outputs": [
    {
     "data": {
      "text/html": [
       "\n",
       "  <div id=\"df-a06cdfba-ac89-4f28-bfa9-edc1f799cb82\">\n",
       "    <div class=\"colab-df-container\">\n",
       "      <div>\n",
       "<style scoped>\n",
       "    .dataframe tbody tr th:only-of-type {\n",
       "        vertical-align: middle;\n",
       "    }\n",
       "\n",
       "    .dataframe tbody tr th {\n",
       "        vertical-align: top;\n",
       "    }\n",
       "\n",
       "    .dataframe thead th {\n",
       "        text-align: right;\n",
       "    }\n",
       "</style>\n",
       "<table border=\"1\" class=\"dataframe\">\n",
       "  <thead>\n",
       "    <tr style=\"text-align: right;\">\n",
       "      <th></th>\n",
       "      <th>Unit</th>\n",
       "      <th>Sales</th>\n",
       "    </tr>\n",
       "  </thead>\n",
       "  <tbody>\n",
       "    <tr>\n",
       "      <th>count</th>\n",
       "      <td>30.000000</td>\n",
       "      <td>3.000000e+01</td>\n",
       "    </tr>\n",
       "    <tr>\n",
       "      <th>mean</th>\n",
       "      <td>1209.100000</td>\n",
       "      <td>3.022750e+06</td>\n",
       "    </tr>\n",
       "    <tr>\n",
       "      <th>std</th>\n",
       "      <td>51.177413</td>\n",
       "      <td>1.279435e+05</td>\n",
       "    </tr>\n",
       "    <tr>\n",
       "      <th>min</th>\n",
       "      <td>1090.000000</td>\n",
       "      <td>2.725000e+06</td>\n",
       "    </tr>\n",
       "    <tr>\n",
       "      <th>25%</th>\n",
       "      <td>1175.750000</td>\n",
       "      <td>2.939375e+06</td>\n",
       "    </tr>\n",
       "    <tr>\n",
       "      <th>50%</th>\n",
       "      <td>1209.500000</td>\n",
       "      <td>3.023750e+06</td>\n",
       "    </tr>\n",
       "    <tr>\n",
       "      <th>75%</th>\n",
       "      <td>1230.000000</td>\n",
       "      <td>3.075000e+06</td>\n",
       "    </tr>\n",
       "    <tr>\n",
       "      <th>max</th>\n",
       "      <td>1316.000000</td>\n",
       "      <td>3.290000e+06</td>\n",
       "    </tr>\n",
       "  </tbody>\n",
       "</table>\n",
       "</div>\n",
       "      <button class=\"colab-df-convert\" onclick=\"convertToInteractive('df-a06cdfba-ac89-4f28-bfa9-edc1f799cb82')\"\n",
       "              title=\"Convert this dataframe to an interactive table.\"\n",
       "              style=\"display:none;\">\n",
       "        \n",
       "  <svg xmlns=\"http://www.w3.org/2000/svg\" height=\"24px\"viewBox=\"0 0 24 24\"\n",
       "       width=\"24px\">\n",
       "    <path d=\"M0 0h24v24H0V0z\" fill=\"none\"/>\n",
       "    <path d=\"M18.56 5.44l.94 2.06.94-2.06 2.06-.94-2.06-.94-.94-2.06-.94 2.06-2.06.94zm-11 1L8.5 8.5l.94-2.06 2.06-.94-2.06-.94L8.5 2.5l-.94 2.06-2.06.94zm10 10l.94 2.06.94-2.06 2.06-.94-2.06-.94-.94-2.06-.94 2.06-2.06.94z\"/><path d=\"M17.41 7.96l-1.37-1.37c-.4-.4-.92-.59-1.43-.59-.52 0-1.04.2-1.43.59L10.3 9.45l-7.72 7.72c-.78.78-.78 2.05 0 2.83L4 21.41c.39.39.9.59 1.41.59.51 0 1.02-.2 1.41-.59l7.78-7.78 2.81-2.81c.8-.78.8-2.07 0-2.86zM5.41 20L4 18.59l7.72-7.72 1.47 1.35L5.41 20z\"/>\n",
       "  </svg>\n",
       "      </button>\n",
       "      \n",
       "  <style>\n",
       "    .colab-df-container {\n",
       "      display:flex;\n",
       "      flex-wrap:wrap;\n",
       "      gap: 12px;\n",
       "    }\n",
       "\n",
       "    .colab-df-convert {\n",
       "      background-color: #E8F0FE;\n",
       "      border: none;\n",
       "      border-radius: 50%;\n",
       "      cursor: pointer;\n",
       "      display: none;\n",
       "      fill: #1967D2;\n",
       "      height: 32px;\n",
       "      padding: 0 0 0 0;\n",
       "      width: 32px;\n",
       "    }\n",
       "\n",
       "    .colab-df-convert:hover {\n",
       "      background-color: #E2EBFA;\n",
       "      box-shadow: 0px 1px 2px rgba(60, 64, 67, 0.3), 0px 1px 3px 1px rgba(60, 64, 67, 0.15);\n",
       "      fill: #174EA6;\n",
       "    }\n",
       "\n",
       "    [theme=dark] .colab-df-convert {\n",
       "      background-color: #3B4455;\n",
       "      fill: #D2E3FC;\n",
       "    }\n",
       "\n",
       "    [theme=dark] .colab-df-convert:hover {\n",
       "      background-color: #434B5C;\n",
       "      box-shadow: 0px 1px 3px 1px rgba(0, 0, 0, 0.15);\n",
       "      filter: drop-shadow(0px 1px 2px rgba(0, 0, 0, 0.3));\n",
       "      fill: #FFFFFF;\n",
       "    }\n",
       "  </style>\n",
       "\n",
       "      <script>\n",
       "        const buttonEl =\n",
       "          document.querySelector('#df-a06cdfba-ac89-4f28-bfa9-edc1f799cb82 button.colab-df-convert');\n",
       "        buttonEl.style.display =\n",
       "          google.colab.kernel.accessAllowed ? 'block' : 'none';\n",
       "\n",
       "        async function convertToInteractive(key) {\n",
       "          const element = document.querySelector('#df-a06cdfba-ac89-4f28-bfa9-edc1f799cb82');\n",
       "          const dataTable =\n",
       "            await google.colab.kernel.invokeFunction('convertToInteractive',\n",
       "                                                     [key], {});\n",
       "          if (!dataTable) return;\n",
       "\n",
       "          const docLinkHtml = 'Like what you see? Visit the ' +\n",
       "            '<a target=\"_blank\" href=https://colab.research.google.com/notebooks/data_table.ipynb>data table notebook</a>'\n",
       "            + ' to learn more about interactive tables.';\n",
       "          element.innerHTML = '';\n",
       "          dataTable['output_type'] = 'display_data';\n",
       "          await google.colab.output.renderOutput(dataTable, element);\n",
       "          const docLink = document.createElement('div');\n",
       "          docLink.innerHTML = docLinkHtml;\n",
       "          element.appendChild(docLink);\n",
       "        }\n",
       "      </script>\n",
       "    </div>\n",
       "  </div>\n",
       "  "
      ],
      "text/plain": [
       "              Unit         Sales\n",
       "count    30.000000  3.000000e+01\n",
       "mean   1209.100000  3.022750e+06\n",
       "std      51.177413  1.279435e+05\n",
       "min    1090.000000  2.725000e+06\n",
       "25%    1175.750000  2.939375e+06\n",
       "50%    1209.500000  3.023750e+06\n",
       "75%    1230.000000  3.075000e+06\n",
       "max    1316.000000  3.290000e+06"
      ]
     },
     "execution_count": 68,
     "metadata": {},
     "output_type": "execute_result"
    }
   ],
   "source": [
    "df_nov.describe()"
   ]
  },
  {
   "cell_type": "code",
   "execution_count": 69,
   "metadata": {
    "colab": {
     "base_uri": "https://localhost:8080/",
     "height": 300
    },
    "executionInfo": {
     "elapsed": 73,
     "status": "ok",
     "timestamp": 1643951908765,
     "user": {
      "displayName": "Altius Digital",
      "photoUrl": "https://lh3.googleusercontent.com/a-/AOh14Gg-jM7BssdeaRMMWYY-mmAR3qB9-8qGrJOINB1iwA=s64",
      "userId": "15775653459441703519"
     },
     "user_tz": -330
    },
    "id": "0UIjcNmjQxSd",
    "outputId": "ff48402c-e75c-40d4-9b6f-b5e35d76e60d"
   },
   "outputs": [
    {
     "data": {
      "text/html": [
       "\n",
       "  <div id=\"df-6a77d23c-1cb7-419f-9848-0a544401454a\">\n",
       "    <div class=\"colab-df-container\">\n",
       "      <div>\n",
       "<style scoped>\n",
       "    .dataframe tbody tr th:only-of-type {\n",
       "        vertical-align: middle;\n",
       "    }\n",
       "\n",
       "    .dataframe tbody tr th {\n",
       "        vertical-align: top;\n",
       "    }\n",
       "\n",
       "    .dataframe thead th {\n",
       "        text-align: right;\n",
       "    }\n",
       "</style>\n",
       "<table border=\"1\" class=\"dataframe\">\n",
       "  <thead>\n",
       "    <tr style=\"text-align: right;\">\n",
       "      <th></th>\n",
       "      <th>Unit</th>\n",
       "      <th>Sales</th>\n",
       "    </tr>\n",
       "  </thead>\n",
       "  <tbody>\n",
       "    <tr>\n",
       "      <th>count</th>\n",
       "      <td>30.000000</td>\n",
       "      <td>3.000000e+01</td>\n",
       "    </tr>\n",
       "    <tr>\n",
       "      <th>mean</th>\n",
       "      <td>1804.400000</td>\n",
       "      <td>4.511000e+06</td>\n",
       "    </tr>\n",
       "    <tr>\n",
       "      <th>std</th>\n",
       "      <td>61.370329</td>\n",
       "      <td>1.534258e+05</td>\n",
       "    </tr>\n",
       "    <tr>\n",
       "      <th>min</th>\n",
       "      <td>1624.000000</td>\n",
       "      <td>4.060000e+06</td>\n",
       "    </tr>\n",
       "    <tr>\n",
       "      <th>25%</th>\n",
       "      <td>1775.750000</td>\n",
       "      <td>4.439375e+06</td>\n",
       "    </tr>\n",
       "    <tr>\n",
       "      <th>50%</th>\n",
       "      <td>1812.500000</td>\n",
       "      <td>4.531250e+06</td>\n",
       "    </tr>\n",
       "    <tr>\n",
       "      <th>75%</th>\n",
       "      <td>1842.750000</td>\n",
       "      <td>4.606875e+06</td>\n",
       "    </tr>\n",
       "    <tr>\n",
       "      <th>max</th>\n",
       "      <td>1906.000000</td>\n",
       "      <td>4.765000e+06</td>\n",
       "    </tr>\n",
       "  </tbody>\n",
       "</table>\n",
       "</div>\n",
       "      <button class=\"colab-df-convert\" onclick=\"convertToInteractive('df-6a77d23c-1cb7-419f-9848-0a544401454a')\"\n",
       "              title=\"Convert this dataframe to an interactive table.\"\n",
       "              style=\"display:none;\">\n",
       "        \n",
       "  <svg xmlns=\"http://www.w3.org/2000/svg\" height=\"24px\"viewBox=\"0 0 24 24\"\n",
       "       width=\"24px\">\n",
       "    <path d=\"M0 0h24v24H0V0z\" fill=\"none\"/>\n",
       "    <path d=\"M18.56 5.44l.94 2.06.94-2.06 2.06-.94-2.06-.94-.94-2.06-.94 2.06-2.06.94zm-11 1L8.5 8.5l.94-2.06 2.06-.94-2.06-.94L8.5 2.5l-.94 2.06-2.06.94zm10 10l.94 2.06.94-2.06 2.06-.94-2.06-.94-.94-2.06-.94 2.06-2.06.94z\"/><path d=\"M17.41 7.96l-1.37-1.37c-.4-.4-.92-.59-1.43-.59-.52 0-1.04.2-1.43.59L10.3 9.45l-7.72 7.72c-.78.78-.78 2.05 0 2.83L4 21.41c.39.39.9.59 1.41.59.51 0 1.02-.2 1.41-.59l7.78-7.78 2.81-2.81c.8-.78.8-2.07 0-2.86zM5.41 20L4 18.59l7.72-7.72 1.47 1.35L5.41 20z\"/>\n",
       "  </svg>\n",
       "      </button>\n",
       "      \n",
       "  <style>\n",
       "    .colab-df-container {\n",
       "      display:flex;\n",
       "      flex-wrap:wrap;\n",
       "      gap: 12px;\n",
       "    }\n",
       "\n",
       "    .colab-df-convert {\n",
       "      background-color: #E8F0FE;\n",
       "      border: none;\n",
       "      border-radius: 50%;\n",
       "      cursor: pointer;\n",
       "      display: none;\n",
       "      fill: #1967D2;\n",
       "      height: 32px;\n",
       "      padding: 0 0 0 0;\n",
       "      width: 32px;\n",
       "    }\n",
       "\n",
       "    .colab-df-convert:hover {\n",
       "      background-color: #E2EBFA;\n",
       "      box-shadow: 0px 1px 2px rgba(60, 64, 67, 0.3), 0px 1px 3px 1px rgba(60, 64, 67, 0.15);\n",
       "      fill: #174EA6;\n",
       "    }\n",
       "\n",
       "    [theme=dark] .colab-df-convert {\n",
       "      background-color: #3B4455;\n",
       "      fill: #D2E3FC;\n",
       "    }\n",
       "\n",
       "    [theme=dark] .colab-df-convert:hover {\n",
       "      background-color: #434B5C;\n",
       "      box-shadow: 0px 1px 3px 1px rgba(0, 0, 0, 0.15);\n",
       "      filter: drop-shadow(0px 1px 2px rgba(0, 0, 0, 0.3));\n",
       "      fill: #FFFFFF;\n",
       "    }\n",
       "  </style>\n",
       "\n",
       "      <script>\n",
       "        const buttonEl =\n",
       "          document.querySelector('#df-6a77d23c-1cb7-419f-9848-0a544401454a button.colab-df-convert');\n",
       "        buttonEl.style.display =\n",
       "          google.colab.kernel.accessAllowed ? 'block' : 'none';\n",
       "\n",
       "        async function convertToInteractive(key) {\n",
       "          const element = document.querySelector('#df-6a77d23c-1cb7-419f-9848-0a544401454a');\n",
       "          const dataTable =\n",
       "            await google.colab.kernel.invokeFunction('convertToInteractive',\n",
       "                                                     [key], {});\n",
       "          if (!dataTable) return;\n",
       "\n",
       "          const docLinkHtml = 'Like what you see? Visit the ' +\n",
       "            '<a target=\"_blank\" href=https://colab.research.google.com/notebooks/data_table.ipynb>data table notebook</a>'\n",
       "            + ' to learn more about interactive tables.';\n",
       "          element.innerHTML = '';\n",
       "          dataTable['output_type'] = 'display_data';\n",
       "          await google.colab.output.renderOutput(dataTable, element);\n",
       "          const docLink = document.createElement('div');\n",
       "          docLink.innerHTML = docLinkHtml;\n",
       "          element.appendChild(docLink);\n",
       "        }\n",
       "      </script>\n",
       "    </div>\n",
       "  </div>\n",
       "  "
      ],
      "text/plain": [
       "              Unit         Sales\n",
       "count    30.000000  3.000000e+01\n",
       "mean   1804.400000  4.511000e+06\n",
       "std      61.370329  1.534258e+05\n",
       "min    1624.000000  4.060000e+06\n",
       "25%    1775.750000  4.439375e+06\n",
       "50%    1812.500000  4.531250e+06\n",
       "75%    1842.750000  4.606875e+06\n",
       "max    1906.000000  4.765000e+06"
      ]
     },
     "execution_count": 69,
     "metadata": {},
     "output_type": "execute_result"
    }
   ],
   "source": [
    "df_dec.describe()"
   ]
  },
  {
   "cell_type": "markdown",
   "metadata": {
    "id": "Ito9zGAa9odN"
   },
   "source": [
    "### Box Plot Analysis\n",
    "#### Unit Analysis"
   ]
  },
  {
   "cell_type": "code",
   "execution_count": 70,
   "metadata": {
    "colab": {
     "base_uri": "https://localhost:8080/",
     "height": 535
    },
    "executionInfo": {
     "elapsed": 1043,
     "status": "ok",
     "timestamp": 1643951909737,
     "user": {
      "displayName": "Altius Digital",
      "photoUrl": "https://lh3.googleusercontent.com/a-/AOh14Gg-jM7BssdeaRMMWYY-mmAR3qB9-8qGrJOINB1iwA=s64",
      "userId": "15775653459441703519"
     },
     "user_tz": -330
    },
    "id": "scVJJkU79xX3",
    "outputId": "283cd6a5-48f9-4bca-8382-b48707b70ca8"
   },
   "outputs": [
    {
     "data": {
      "text/plain": [
       "[Text(0.5, 1.0, 'December Units')]"
      ]
     },
     "execution_count": 70,
     "metadata": {},
     "output_type": "execute_result"
    },
    {
     "data": {
      "image/png": "[encoded data removed]",
      "text/plain": [
       "<Figure size 1440x576 with 3 Axes>"
      ]
     },
     "metadata": {},
     "output_type": "display_data"
    }
   ],
   "source": [
    "sns.set(rc={'figure.figsize':(20,8)})\n",
    "fig, axes = plt.subplots(1, 3)\n",
    "bp_oct = sns.boxplot(x='Unit', data=df_oct, ax=axes[0])\n",
    "bp_nov = sns.boxplot(x='Unit', data=df_nov, ax=axes[1])\n",
    "bp_dec = sns.boxplot(x='Unit', data=df_dec, ax=axes[2])\n",
    "bp_oct.set(title='October Units')\n",
    "bp_nov.set(title='November Units')\n",
    "bp_dec.set(title='December Units')"
   ]
  },
  {
   "cell_type": "markdown",
   "metadata": {
    "id": "V6VwEdZz-H9n"
   },
   "source": [
    "In the above boxplots, you can see the variation in the quartiles for three different months. For the month of October, it is rather wide-spread with a mean value of 1523, where as, for the month of November and December, they are rather narrow. For November, the mean value is 1209, and for the month of December, it is 1804. \n",
    "\n",
    "#### Sales Analysis"
   ]
  },
  {
   "cell_type": "code",
   "execution_count": 71,
   "metadata": {
    "colab": {
     "base_uri": "https://localhost:8080/",
     "height": 535
    },
    "executionInfo": {
     "elapsed": 28,
     "status": "ok",
     "timestamp": 1643951909738,
     "user": {
      "displayName": "Altius Digital",
      "photoUrl": "https://lh3.googleusercontent.com/a-/AOh14Gg-jM7BssdeaRMMWYY-mmAR3qB9-8qGrJOINB1iwA=s64",
      "userId": "15775653459441703519"
     },
     "user_tz": -330
    },
    "id": "31J7HK20-Mwq",
    "outputId": "3d637b7d-c954-4968-9da6-180d589f9aa4"
   },
   "outputs": [
    {
     "data": {
      "text/plain": [
       "[Text(0.5, 1.0, 'December Sales')]"
      ]
     },
     "execution_count": 71,
     "metadata": {},
     "output_type": "execute_result"
    },
    {
     "data": {
      "image/png": "[encoded data removed]",
      "text/plain": [
       "<Figure size 1440x576 with 3 Axes>"
      ]
     },
     "metadata": {},
     "output_type": "display_data"
    }
   ],
   "source": [
    "sns.set(rc={'figure.figsize':(20,8)})\n",
    "fig, axes = plt.subplots(1, 3)\n",
    "bp_oct = sns.boxplot(x='Sales', data=df_oct, ax=axes[0])\n",
    "bp_nov = sns.boxplot(x='Sales', data=df_nov, ax=axes[1])\n",
    "bp_dec = sns.boxplot(x='Sales', data=df_dec, ax=axes[2])\n",
    "bp_oct.set(title='October Sales')\n",
    "bp_nov.set(title='November Sales')\n",
    "bp_dec.set(title='December Sales')"
   ]
  },
  {
   "cell_type": "markdown",
   "metadata": {
    "id": "hnIuSQCTDLMt"
   },
   "source": [
    "In the above boxplots, you can see the variation in the quartiles for three different months for **Sales** values. For the month of October, it is rather wide-spread with a mean value of 3.809667e+06, where as, for the month of November and December, they are rather narrow. For November, the mean value is 3.022750e+06, and for the month of December, it is 4.511000e+06, the highest ever. Note these values are consolidated across **State**, **Group** and **Time** categorical valirbles.\n",
    "\n",
    "## Monthly Plots and Analysis\n",
    "In the above section, we separated the data monthly wise and performed the top-level description to get the main statistics of the sales. In this section, we will plot, month-wise and do a comparative study on the numbers."
   ]
  },
  {
   "cell_type": "markdown",
   "metadata": {
    "id": "-UjoLaC6D7q6"
   },
   "source": [
    "### Overall Unit and Sales figures"
   ]
  },
  {
   "cell_type": "code",
   "execution_count": 72,
   "metadata": {
    "colab": {
     "base_uri": "https://localhost:8080/"
    },
    "executionInfo": {
     "elapsed": 21,
     "status": "ok",
     "timestamp": 1643951909739,
     "user": {
      "displayName": "Altius Digital",
      "photoUrl": "https://lh3.googleusercontent.com/a-/AOh14Gg-jM7BssdeaRMMWYY-mmAR3qB9-8qGrJOINB1iwA=s64",
      "userId": "15775653459441703519"
     },
     "user_tz": -330
    },
    "id": "TyZmlf4dK4kC",
    "outputId": "73f7fffa-99cf-4a32-e6f1-3e0290b75654"
   },
   "outputs": [
    {
     "data": {
      "text/plain": [
       "Index(['1', '2', '3', '4', '5', '6', '7', '8', '9', '10', '11', '12', '13',\n",
       "       '14', '15', '16', '17', '18', '19', '20', '21', '22', '23', '24', '25',\n",
       "       '26', '27', '28', '29', '30'],\n",
       "      dtype='object', name='Date')"
      ]
     },
     "execution_count": 72,
     "metadata": {},
     "output_type": "execute_result"
    }
   ],
   "source": [
    "oct_days = df_oct.index.day\n",
    "oct_days.astype('str')\n",
    "nov_days = df_nov.index.day\n",
    "nov_days.astype('str')\n",
    "dec_days = df_dec.index.day\n",
    "dec_days.astype('str')"
   ]
  },
  {
   "cell_type": "markdown",
   "metadata": {
    "id": "mlIb9XsaXRHp"
   },
   "source": [
    "#### Units sold in October, November and December\n",
    "For this, we can use bar plot of seaborn, and sub-plots feature of Matplotlib. All the three months are plotted on the same level. As you can see, the plot shows a mean value of 1523 units for the month of October, 1209 for the month of November and 1804 for the month of December. As you can see these numbers are endorsed by the ```describe()``` command previously. Accordingly, November month was leaner in Unit sales, than October and December of 2020."
   ]
  },
  {
   "cell_type": "code",
   "execution_count": 73,
   "metadata": {
    "colab": {
     "base_uri": "https://localhost:8080/",
     "height": 518
    },
    "executionInfo": {
     "elapsed": 1165,
     "status": "ok",
     "timestamp": 1643951910887,
     "user": {
      "displayName": "Altius Digital",
      "photoUrl": "https://lh3.googleusercontent.com/a-/AOh14Gg-jM7BssdeaRMMWYY-mmAR3qB9-8qGrJOINB1iwA=s64",
      "userId": "15775653459441703519"
     },
     "user_tz": -330
    },
    "id": "LODIsLAJED5h",
    "outputId": "e24cc427-938d-4df5-de06-4f9e5e20d672"
   },
   "outputs": [
    {
     "data": {
      "image/png": "[encoded data removed]",
      "text/plain": [
       "<Figure size 1440x576 with 3 Axes>"
      ]
     },
     "metadata": {},
     "output_type": "display_data"
    }
   ],
   "source": [
    "sns.set(rc={'figure.figsize':(20,8)})\n",
    "fig, axes = plt.subplots(1, 3)\n",
    "bp_oct = sns.barplot(x = df_oct.index, y='Unit', data=df_oct, ax=axes[0])\n",
    "bp_nov = sns.barplot(x = df_nov.index, y='Unit', data=df_nov, ax=axes[1])\n",
    "bp_dec = sns.barplot(x = df_dec.index, y='Unit', data=df_dec, ax=axes[2])\n",
    "bp_oct.set(xlabel='Oct 2020', title='October Units')\n",
    "bp_nov.set(xlabel='Nov 2020', title='November Units')\n",
    "bp_dec.set(xlabel='Dev 2020', title='December Units')\n",
    "bp_oct.set(ylim=(1000, 2000))\n",
    "bp_nov.set(ylim=(1000, 2000))\n",
    "bp_dec.set(ylim=(1000, 2000))\n",
    "o = bp_oct.set_xticklabels(oct_days)\n",
    "n = bp_nov.set_xticklabels(nov_days)\n",
    "d = bp_dec.set_xticklabels(dec_days)"
   ]
  },
  {
   "cell_type": "markdown",
   "metadata": {
    "id": "nMGIR24fYm29"
   },
   "source": [
    "### Sales numbers for October, November and December\n",
    "We are using lineplot for seaborn, and once again, we use sub-plot features of Matplotlib, and the sales figures are plotted for each month and plotted one-next-to-the other. Also, you can see, the y axis is same for all the plots, and based on the available numbers, December was most productive in terms of the monthly sales."
   ]
  },
  {
   "cell_type": "code",
   "execution_count": 74,
   "metadata": {
    "colab": {
     "base_uri": "https://localhost:8080/",
     "height": 518
    },
    "executionInfo": {
     "elapsed": 1707,
     "status": "ok",
     "timestamp": 1643951912587,
     "user": {
      "displayName": "Altius Digital",
      "photoUrl": "https://lh3.googleusercontent.com/a-/AOh14Gg-jM7BssdeaRMMWYY-mmAR3qB9-8qGrJOINB1iwA=s64",
      "userId": "15775653459441703519"
     },
     "user_tz": -330
    },
    "id": "fwMF-zwS-m0j",
    "outputId": "afee0824-92e6-4330-ef3a-a0ae0c4bbc0b"
   },
   "outputs": [
    {
     "data": {
      "image/png": "[encoded data removed]",
      "text/plain": [
       "<Figure size 1440x576 with 3 Axes>"
      ]
     },
     "metadata": {},
     "output_type": "display_data"
    }
   ],
   "source": [
    "import matplotlib\n",
    "# sns.lineplot(x = 'Date', y = 'Unit', data = df)\n",
    "sns.set(rc={'figure.figsize':(20,8)})\n",
    "fig, axes = plt.subplots(1, 3)\n",
    "lp_oct = sns.lineplot(x = df_oct.index, y = 'Sales', data=df_oct, ax=axes[0])\n",
    "lp_nov = sns.lineplot(x = df_nov.index, y = 'Sales', data=df_nov, ax = axes[1])\n",
    "lp_dec = sns.lineplot(x = df_nov.index, y = 'Sales', data=df_dec, ax = axes[2])\n",
    "lp_oct.set(ylim=(2.5e6, 5.0e6))\n",
    "lp_nov.set(ylim=(2.5e6, 5.0e6))\n",
    "lp_dec.set(ylim=(2.5e6, 5.0e6))\n",
    "lp_oct.set(xlabel='Oct 2020', title='October Sales')\n",
    "lp_nov.set(xlabel='Nov 2020', title='November Sales')\n",
    "lp_dec.set(xlabel='Dev 2020', title='December Sales')\n",
    "\n",
    "loc = matplotlib.dates.DayLocator(bymonthday=range(1, 30, 7))\n",
    "\n",
    "lp_oct.xaxis.set_major_locator(loc)"
   ]
  },
  {
   "cell_type": "markdown",
   "metadata": {
    "id": "P4YitAlmZdKq"
   },
   "source": [
    "### Consolidated 3 month Sales plot\n",
    "The following is the typical Sales figures, using the lineplot of seaborn. Notice that we are using the original dataframe object df, and this has all the three months of data, as against the previous three, where the three sub-dataframes are separated by ```groupby()``` feature of pandas. One more point to be noted here. This plot is different from the plot above, and this is evident from the values of y-axis. The difference here is that the above figures are consolidated data for each month, including the **Group** and **Time** data, which are categorical in nature."
   ]
  },
  {
   "cell_type": "code",
   "execution_count": 75,
   "metadata": {
    "colab": {
     "base_uri": "https://localhost:8080/",
     "height": 519
    },
    "executionInfo": {
     "elapsed": 2676,
     "status": "ok",
     "timestamp": 1643951915234,
     "user": {
      "displayName": "Altius Digital",
      "photoUrl": "https://lh3.googleusercontent.com/a-/AOh14Gg-jM7BssdeaRMMWYY-mmAR3qB9-8qGrJOINB1iwA=s64",
      "userId": "15775653459441703519"
     },
     "user_tz": -330
    },
    "id": "CzubI084ZmTw",
    "outputId": "0eec3d42-e25d-41d4-cd93-35fbdac20b00"
   },
   "outputs": [
    {
     "data": {
      "text/plain": [
       "<matplotlib.axes._subplots.AxesSubplot at 0x7fb8ccf691d0>"
      ]
     },
     "execution_count": 75,
     "metadata": {},
     "output_type": "execute_result"
    },
    {
     "data": {
      "image/png": "[encoded data removed]",
      "text/plain": [
       "<Figure size 1440x576 with 1 Axes>"
      ]
     },
     "metadata": {},
     "output_type": "display_data"
    }
   ],
   "source": [
    "sns.set(rc={'figure.figsize':(20,8)})\n",
    "sns.lineplot(x = 'Date', y = 'Sales', data = df)"
   ]
  },
  {
   "cell_type": "markdown",
   "metadata": {
    "id": "ZSfYvHvPAeYP"
   },
   "source": [
    "One more aspect of this is that this line plot is inclusive of stastical estimation and errors bars that are superimposed on the line plot. This is the special feature of seaborn. This is provided eventhough it is not asked for.\n",
    "\n",
    "## Comprehensive Snapshot\n",
    "The following are the complete month-wise snapshots that shows monthly Units sales on the top-row, and monthly Sales in the bottom. The sub-plot feature is used to get a complets comprehensive shanshot for the three months."
   ]
  },
  {
   "cell_type": "code",
   "execution_count": 76,
   "metadata": {
    "colab": {
     "base_uri": "https://localhost:8080/",
     "height": 535
    },
    "executionInfo": {
     "elapsed": 2247,
     "status": "ok",
     "timestamp": 1643951917474,
     "user": {
      "displayName": "Altius Digital",
      "photoUrl": "https://lh3.googleusercontent.com/a-/AOh14Gg-jM7BssdeaRMMWYY-mmAR3qB9-8qGrJOINB1iwA=s64",
      "userId": "15775653459441703519"
     },
     "user_tz": -330
    },
    "id": "3okT_CCP4R3E",
    "outputId": "b48042cb-89a2-448e-d092-e1cd34ab7965"
   },
   "outputs": [
    {
     "data": {
      "text/plain": [
       "[(2500000.0, 5000000.0)]"
      ]
     },
     "execution_count": 76,
     "metadata": {},
     "output_type": "execute_result"
    },
    {
     "data": {
      "image/png": "[encoded data removed]",
      "text/plain": [
       "<Figure size 1440x576 with 6 Axes>"
      ]
     },
     "metadata": {},
     "output_type": "display_data"
    }
   ],
   "source": [
    "fig, axes = plt.subplots(2, 3)\n",
    "\n",
    "bp_oct = sns.barplot(x = df_oct.index, y='Unit', data=df_oct, ax=axes[0,0])\n",
    "bp_nov = sns.barplot(x = df_nov.index, y='Unit', data=df_nov, ax=axes[0,1])\n",
    "bp_dec = sns.barplot(x = df_dec.index, y='Unit', data=df_dec, ax=axes[0,2])\n",
    "\n",
    "bp_oct.set(xlabel='Oct 2020', title='October Units')\n",
    "bp_nov.set(xlabel='Nov 2020', title='November Units')\n",
    "bp_dec.set(xlabel='Dev 2020', title='December Units')\n",
    "\n",
    "bp_oct.set(ylim=(1000, 2000))\n",
    "bp_nov.set(ylim=(1000, 2000))\n",
    "bp_dec.set(ylim=(1000, 2000))\n",
    "\n",
    "o = bp_oct.set_xticklabels(oct_days)\n",
    "n = bp_nov.set_xticklabels(nov_days)\n",
    "d = bp_dec.set_xticklabels(dec_days)\n",
    "\n",
    "lp_oct = sns.lineplot(x = df_oct.index, y='Sales', data=df_oct, ax=axes[1,0])\n",
    "lp_nov = sns.lineplot(x = df_nov.index, y='Sales', data=df_nov, ax=axes[1,1])\n",
    "lp_dec = sns.lineplot(x = df_dec.index, y='Sales', data=df_dec, ax=axes[1,2])\n",
    "\n",
    "lp_oct.set(ylim=(2.5e6, 5.0e6))\n",
    "lp_nov.set(ylim=(2.5e6, 5.0e6))\n",
    "lp_dec.set(ylim=(2.5e6, 5.0e6))"
   ]
  },
  {
   "cell_type": "markdown",
   "metadata": {
    "id": "apHG2Js2eR3Q"
   },
   "source": [
    "## Analysis of Statewise sales in Australia\n",
    "In the next, we are going to perform the analysis based on the categorical data of the problem. There are three main categories - **State**, **Group** and **Time**. In the first, we are going to pivot our main dataframe ```df``` indexed on **State**, and also we are providing 2 ```aggfunc```tions for computing - ```sum``` and ```mean```. The reporting will be state-wise, and we are calling it as ```state_pivot```. As you can see from the output, both ```sum``` and ```mean``` for **Unit** and **Sales** are reported."
   ]
  },
  {
   "cell_type": "code",
   "execution_count": 77,
   "metadata": {
    "colab": {
     "base_uri": "https://localhost:8080/",
     "height": 332
    },
    "executionInfo": {
     "elapsed": 57,
     "status": "ok",
     "timestamp": 1643951917475,
     "user": {
      "displayName": "Altius Digital",
      "photoUrl": "https://lh3.googleusercontent.com/a-/AOh14Gg-jM7BssdeaRMMWYY-mmAR3qB9-8qGrJOINB1iwA=s64",
      "userId": "15775653459441703519"
     },
     "user_tz": -330
    },
    "id": "HAoLXbqQeT9m",
    "outputId": "06120487-8f54-4161-f8e5-d473a55dea1c"
   },
   "outputs": [
    {
     "data": {
      "text/html": [
       "\n",
       "  <div id=\"df-f565a1a8-36b8-447b-9955-0c6fcdccf465\">\n",
       "    <div class=\"colab-df-container\">\n",
       "      <div>\n",
       "<style scoped>\n",
       "    .dataframe tbody tr th:only-of-type {\n",
       "        vertical-align: middle;\n",
       "    }\n",
       "\n",
       "    .dataframe tbody tr th {\n",
       "        vertical-align: top;\n",
       "    }\n",
       "\n",
       "    .dataframe thead tr th {\n",
       "        text-align: left;\n",
       "    }\n",
       "\n",
       "    .dataframe thead tr:last-of-type th {\n",
       "        text-align: right;\n",
       "    }\n",
       "</style>\n",
       "<table border=\"1\" class=\"dataframe\">\n",
       "  <thead>\n",
       "    <tr>\n",
       "      <th></th>\n",
       "      <th colspan=\"2\" halign=\"left\">sum</th>\n",
       "      <th colspan=\"2\" halign=\"left\">mean</th>\n",
       "    </tr>\n",
       "    <tr>\n",
       "      <th></th>\n",
       "      <th>Sales</th>\n",
       "      <th>Unit</th>\n",
       "      <th>Sales</th>\n",
       "      <th>Unit</th>\n",
       "    </tr>\n",
       "    <tr>\n",
       "      <th>State</th>\n",
       "      <th></th>\n",
       "      <th></th>\n",
       "      <th></th>\n",
       "      <th></th>\n",
       "    </tr>\n",
       "  </thead>\n",
       "  <tbody>\n",
       "    <tr>\n",
       "      <th>NSW</th>\n",
       "      <td>74970000</td>\n",
       "      <td>29988</td>\n",
       "      <td>69416.666667</td>\n",
       "      <td>27.766667</td>\n",
       "    </tr>\n",
       "    <tr>\n",
       "      <th>NT</th>\n",
       "      <td>22580000</td>\n",
       "      <td>9032</td>\n",
       "      <td>20907.407407</td>\n",
       "      <td>8.362963</td>\n",
       "    </tr>\n",
       "    <tr>\n",
       "      <th>QLD</th>\n",
       "      <td>33417500</td>\n",
       "      <td>13367</td>\n",
       "      <td>30942.129630</td>\n",
       "      <td>12.376852</td>\n",
       "    </tr>\n",
       "    <tr>\n",
       "      <th>SA</th>\n",
       "      <td>58857500</td>\n",
       "      <td>23543</td>\n",
       "      <td>54497.685185</td>\n",
       "      <td>21.799074</td>\n",
       "    </tr>\n",
       "    <tr>\n",
       "      <th>TAS</th>\n",
       "      <td>22760000</td>\n",
       "      <td>9104</td>\n",
       "      <td>21074.074074</td>\n",
       "      <td>8.429630</td>\n",
       "    </tr>\n",
       "    <tr>\n",
       "      <th>VIC</th>\n",
       "      <td>105565000</td>\n",
       "      <td>42226</td>\n",
       "      <td>97745.370370</td>\n",
       "      <td>39.098148</td>\n",
       "    </tr>\n",
       "    <tr>\n",
       "      <th>WA</th>\n",
       "      <td>22152500</td>\n",
       "      <td>8861</td>\n",
       "      <td>20511.574074</td>\n",
       "      <td>8.204630</td>\n",
       "    </tr>\n",
       "  </tbody>\n",
       "</table>\n",
       "</div>\n",
       "      <button class=\"colab-df-convert\" onclick=\"convertToInteractive('df-f565a1a8-36b8-447b-9955-0c6fcdccf465')\"\n",
       "              title=\"Convert this dataframe to an interactive table.\"\n",
       "              style=\"display:none;\">\n",
       "        \n",
       "  <svg xmlns=\"http://www.w3.org/2000/svg\" height=\"24px\"viewBox=\"0 0 24 24\"\n",
       "       width=\"24px\">\n",
       "    <path d=\"M0 0h24v24H0V0z\" fill=\"none\"/>\n",
       "    <path d=\"M18.56 5.44l.94 2.06.94-2.06 2.06-.94-2.06-.94-.94-2.06-.94 2.06-2.06.94zm-11 1L8.5 8.5l.94-2.06 2.06-.94-2.06-.94L8.5 2.5l-.94 2.06-2.06.94zm10 10l.94 2.06.94-2.06 2.06-.94-2.06-.94-.94-2.06-.94 2.06-2.06.94z\"/><path d=\"M17.41 7.96l-1.37-1.37c-.4-.4-.92-.59-1.43-.59-.52 0-1.04.2-1.43.59L10.3 9.45l-7.72 7.72c-.78.78-.78 2.05 0 2.83L4 21.41c.39.39.9.59 1.41.59.51 0 1.02-.2 1.41-.59l7.78-7.78 2.81-2.81c.8-.78.8-2.07 0-2.86zM5.41 20L4 18.59l7.72-7.72 1.47 1.35L5.41 20z\"/>\n",
       "  </svg>\n",
       "      </button>\n",
       "      \n",
       "  <style>\n",
       "    .colab-df-container {\n",
       "      display:flex;\n",
       "      flex-wrap:wrap;\n",
       "      gap: 12px;\n",
       "    }\n",
       "\n",
       "    .colab-df-convert {\n",
       "      background-color: #E8F0FE;\n",
       "      border: none;\n",
       "      border-radius: 50%;\n",
       "      cursor: pointer;\n",
       "      display: none;\n",
       "      fill: #1967D2;\n",
       "      height: 32px;\n",
       "      padding: 0 0 0 0;\n",
       "      width: 32px;\n",
       "    }\n",
       "\n",
       "    .colab-df-convert:hover {\n",
       "      background-color: #E2EBFA;\n",
       "      box-shadow: 0px 1px 2px rgba(60, 64, 67, 0.3), 0px 1px 3px 1px rgba(60, 64, 67, 0.15);\n",
       "      fill: #174EA6;\n",
       "    }\n",
       "\n",
       "    [theme=dark] .colab-df-convert {\n",
       "      background-color: #3B4455;\n",
       "      fill: #D2E3FC;\n",
       "    }\n",
       "\n",
       "    [theme=dark] .colab-df-convert:hover {\n",
       "      background-color: #434B5C;\n",
       "      box-shadow: 0px 1px 3px 1px rgba(0, 0, 0, 0.15);\n",
       "      filter: drop-shadow(0px 1px 2px rgba(0, 0, 0, 0.3));\n",
       "      fill: #FFFFFF;\n",
       "    }\n",
       "  </style>\n",
       "\n",
       "      <script>\n",
       "        const buttonEl =\n",
       "          document.querySelector('#df-f565a1a8-36b8-447b-9955-0c6fcdccf465 button.colab-df-convert');\n",
       "        buttonEl.style.display =\n",
       "          google.colab.kernel.accessAllowed ? 'block' : 'none';\n",
       "\n",
       "        async function convertToInteractive(key) {\n",
       "          const element = document.querySelector('#df-f565a1a8-36b8-447b-9955-0c6fcdccf465');\n",
       "          const dataTable =\n",
       "            await google.colab.kernel.invokeFunction('convertToInteractive',\n",
       "                                                     [key], {});\n",
       "          if (!dataTable) return;\n",
       "\n",
       "          const docLinkHtml = 'Like what you see? Visit the ' +\n",
       "            '<a target=\"_blank\" href=https://colab.research.google.com/notebooks/data_table.ipynb>data table notebook</a>'\n",
       "            + ' to learn more about interactive tables.';\n",
       "          element.innerHTML = '';\n",
       "          dataTable['output_type'] = 'display_data';\n",
       "          await google.colab.output.renderOutput(dataTable, element);\n",
       "          const docLink = document.createElement('div');\n",
       "          docLink.innerHTML = docLinkHtml;\n",
       "          element.appendChild(docLink);\n",
       "        }\n",
       "      </script>\n",
       "    </div>\n",
       "  </div>\n",
       "  "
      ],
      "text/plain": [
       "             sum                 mean           \n",
       "           Sales   Unit         Sales       Unit\n",
       "State                                           \n",
       " NSW    74970000  29988  69416.666667  27.766667\n",
       " NT     22580000   9032  20907.407407   8.362963\n",
       " QLD    33417500  13367  30942.129630  12.376852\n",
       " SA     58857500  23543  54497.685185  21.799074\n",
       " TAS    22760000   9104  21074.074074   8.429630\n",
       " VIC   105565000  42226  97745.370370  39.098148\n",
       " WA     22152500   8861  20511.574074   8.204630"
      ]
     },
     "execution_count": 77,
     "metadata": {},
     "output_type": "execute_result"
    }
   ],
   "source": [
    "state_pivot = pd.pivot_table(df, index='State', aggfunc=['sum', 'mean'])\n",
    "state_pivot "
   ]
  },
  {
   "cell_type": "code",
   "execution_count": 77,
   "metadata": {
    "executionInfo": {
     "elapsed": 52,
     "status": "ok",
     "timestamp": 1643951917476,
     "user": {
      "displayName": "Altius Digital",
      "photoUrl": "https://lh3.googleusercontent.com/a-/AOh14Gg-jM7BssdeaRMMWYY-mmAR3qB9-8qGrJOINB1iwA=s64",
      "userId": "15775653459441703519"
     },
     "user_tz": -330
    },
    "id": "0D-uqKYomKI9"
   },
   "outputs": [],
   "source": []
  },
  {
   "cell_type": "code",
   "execution_count": 78,
   "metadata": {
    "colab": {
     "base_uri": "https://localhost:8080/",
     "height": 466
    },
    "executionInfo": {
     "elapsed": 1472,
     "status": "ok",
     "timestamp": 1643951918897,
     "user": {
      "displayName": "Altius Digital",
      "photoUrl": "https://lh3.googleusercontent.com/a-/AOh14Gg-jM7BssdeaRMMWYY-mmAR3qB9-8qGrJOINB1iwA=s64",
      "userId": "15775653459441703519"
     },
     "user_tz": -330
    },
    "id": "sHRKC9UEybXs",
    "outputId": "e62f00ea-d0be-40c0-f6e3-f9f56427ebe9"
   },
   "outputs": [
    {
     "data": {
      "image/png": "[encoded data removed]",
      "text/plain": [
       "<Figure size 1440x576 with 1 Axes>"
      ]
     },
     "metadata": {},
     "output_type": "display_data"
    }
   ],
   "source": [
    "labels = state_pivot['mean']['Sales'].index.to_list()\n",
    "# print(labels)\n",
    "colors = sns.color_palette('pastel')[0:5]\n",
    "plt.pie(state_pivot['mean']['Sales'], labels=labels, colors=colors, autopct='%.0f%%')\n",
    "plt.show()"
   ]
  },
  {
   "cell_type": "markdown",
   "metadata": {
    "id": "QArJCtx9hYXM"
   },
   "source": [
    "From the above pie chart, we can infer that more than 70% of the business come from the three states VIC, NSW and SA. Remaining states contribute just about 30%. This is based on the mean **Sales** data.\n",
    "\n",
    "## Groupwise Analysis\n",
    "In the next, we are going to perform the analysis based on the next categorical data of the problem - **Group**.  Here, we are going to pivot our main dataframe ```df``` indexed on **Group**, and also we are providing the same two ```aggfunc```tions for computing - ```sum``` and ```mean```. The reporting will be state-wise, and we are calling it as ```group_pivot```. As you can see from the output, both ```sum``` and ```mean``` for **Unit** and **Sales** are reported."
   ]
  },
  {
   "cell_type": "code",
   "execution_count": 79,
   "metadata": {
    "colab": {
     "base_uri": "https://localhost:8080/",
     "height": 238
    },
    "executionInfo": {
     "elapsed": 159,
     "status": "ok",
     "timestamp": 1643951918898,
     "user": {
      "displayName": "Altius Digital",
      "photoUrl": "https://lh3.googleusercontent.com/a-/AOh14Gg-jM7BssdeaRMMWYY-mmAR3qB9-8qGrJOINB1iwA=s64",
      "userId": "15775653459441703519"
     },
     "user_tz": -330
    },
    "id": "xk9BtyGMgLyJ",
    "outputId": "ad6e2ed3-12d5-498e-cb53-c1e67b9d95ff"
   },
   "outputs": [
    {
     "data": {
      "text/html": [
       "\n",
       "  <div id=\"df-4b862665-0075-4cb4-a515-93d5f670b05c\">\n",
       "    <div class=\"colab-df-container\">\n",
       "      <div>\n",
       "<style scoped>\n",
       "    .dataframe tbody tr th:only-of-type {\n",
       "        vertical-align: middle;\n",
       "    }\n",
       "\n",
       "    .dataframe tbody tr th {\n",
       "        vertical-align: top;\n",
       "    }\n",
       "\n",
       "    .dataframe thead tr th {\n",
       "        text-align: left;\n",
       "    }\n",
       "\n",
       "    .dataframe thead tr:last-of-type th {\n",
       "        text-align: right;\n",
       "    }\n",
       "</style>\n",
       "<table border=\"1\" class=\"dataframe\">\n",
       "  <thead>\n",
       "    <tr>\n",
       "      <th></th>\n",
       "      <th colspan=\"2\" halign=\"left\">sum</th>\n",
       "      <th colspan=\"2\" halign=\"left\">mean</th>\n",
       "    </tr>\n",
       "    <tr>\n",
       "      <th></th>\n",
       "      <th>Sales</th>\n",
       "      <th>Unit</th>\n",
       "      <th>Sales</th>\n",
       "      <th>Unit</th>\n",
       "    </tr>\n",
       "    <tr>\n",
       "      <th>Group</th>\n",
       "      <th></th>\n",
       "      <th></th>\n",
       "      <th></th>\n",
       "      <th></th>\n",
       "    </tr>\n",
       "  </thead>\n",
       "  <tbody>\n",
       "    <tr>\n",
       "      <th>Kids</th>\n",
       "      <td>85072500</td>\n",
       "      <td>34029</td>\n",
       "      <td>45011.904762</td>\n",
       "      <td>18.004762</td>\n",
       "    </tr>\n",
       "    <tr>\n",
       "      <th>Men</th>\n",
       "      <td>85750000</td>\n",
       "      <td>34300</td>\n",
       "      <td>45370.370370</td>\n",
       "      <td>18.148148</td>\n",
       "    </tr>\n",
       "    <tr>\n",
       "      <th>Seniors</th>\n",
       "      <td>84037500</td>\n",
       "      <td>33615</td>\n",
       "      <td>44464.285714</td>\n",
       "      <td>17.785714</td>\n",
       "    </tr>\n",
       "    <tr>\n",
       "      <th>Women</th>\n",
       "      <td>85442500</td>\n",
       "      <td>34177</td>\n",
       "      <td>45207.671958</td>\n",
       "      <td>18.083069</td>\n",
       "    </tr>\n",
       "  </tbody>\n",
       "</table>\n",
       "</div>\n",
       "      <button class=\"colab-df-convert\" onclick=\"convertToInteractive('df-4b862665-0075-4cb4-a515-93d5f670b05c')\"\n",
       "              title=\"Convert this dataframe to an interactive table.\"\n",
       "              style=\"display:none;\">\n",
       "        \n",
       "  <svg xmlns=\"http://www.w3.org/2000/svg\" height=\"24px\"viewBox=\"0 0 24 24\"\n",
       "       width=\"24px\">\n",
       "    <path d=\"M0 0h24v24H0V0z\" fill=\"none\"/>\n",
       "    <path d=\"M18.56 5.44l.94 2.06.94-2.06 2.06-.94-2.06-.94-.94-2.06-.94 2.06-2.06.94zm-11 1L8.5 8.5l.94-2.06 2.06-.94-2.06-.94L8.5 2.5l-.94 2.06-2.06.94zm10 10l.94 2.06.94-2.06 2.06-.94-2.06-.94-.94-2.06-.94 2.06-2.06.94z\"/><path d=\"M17.41 7.96l-1.37-1.37c-.4-.4-.92-.59-1.43-.59-.52 0-1.04.2-1.43.59L10.3 9.45l-7.72 7.72c-.78.78-.78 2.05 0 2.83L4 21.41c.39.39.9.59 1.41.59.51 0 1.02-.2 1.41-.59l7.78-7.78 2.81-2.81c.8-.78.8-2.07 0-2.86zM5.41 20L4 18.59l7.72-7.72 1.47 1.35L5.41 20z\"/>\n",
       "  </svg>\n",
       "      </button>\n",
       "      \n",
       "  <style>\n",
       "    .colab-df-container {\n",
       "      display:flex;\n",
       "      flex-wrap:wrap;\n",
       "      gap: 12px;\n",
       "    }\n",
       "\n",
       "    .colab-df-convert {\n",
       "      background-color: #E8F0FE;\n",
       "      border: none;\n",
       "      border-radius: 50%;\n",
       "      cursor: pointer;\n",
       "      display: none;\n",
       "      fill: #1967D2;\n",
       "      height: 32px;\n",
       "      padding: 0 0 0 0;\n",
       "      width: 32px;\n",
       "    }\n",
       "\n",
       "    .colab-df-convert:hover {\n",
       "      background-color: #E2EBFA;\n",
       "      box-shadow: 0px 1px 2px rgba(60, 64, 67, 0.3), 0px 1px 3px 1px rgba(60, 64, 67, 0.15);\n",
       "      fill: #174EA6;\n",
       "    }\n",
       "\n",
       "    [theme=dark] .colab-df-convert {\n",
       "      background-color: #3B4455;\n",
       "      fill: #D2E3FC;\n",
       "    }\n",
       "\n",
       "    [theme=dark] .colab-df-convert:hover {\n",
       "      background-color: #434B5C;\n",
       "      box-shadow: 0px 1px 3px 1px rgba(0, 0, 0, 0.15);\n",
       "      filter: drop-shadow(0px 1px 2px rgba(0, 0, 0, 0.3));\n",
       "      fill: #FFFFFF;\n",
       "    }\n",
       "  </style>\n",
       "\n",
       "      <script>\n",
       "        const buttonEl =\n",
       "          document.querySelector('#df-4b862665-0075-4cb4-a515-93d5f670b05c button.colab-df-convert');\n",
       "        buttonEl.style.display =\n",
       "          google.colab.kernel.accessAllowed ? 'block' : 'none';\n",
       "\n",
       "        async function convertToInteractive(key) {\n",
       "          const element = document.querySelector('#df-4b862665-0075-4cb4-a515-93d5f670b05c');\n",
       "          const dataTable =\n",
       "            await google.colab.kernel.invokeFunction('convertToInteractive',\n",
       "                                                     [key], {});\n",
       "          if (!dataTable) return;\n",
       "\n",
       "          const docLinkHtml = 'Like what you see? Visit the ' +\n",
       "            '<a target=\"_blank\" href=https://colab.research.google.com/notebooks/data_table.ipynb>data table notebook</a>'\n",
       "            + ' to learn more about interactive tables.';\n",
       "          element.innerHTML = '';\n",
       "          dataTable['output_type'] = 'display_data';\n",
       "          await google.colab.output.renderOutput(dataTable, element);\n",
       "          const docLink = document.createElement('div');\n",
       "          docLink.innerHTML = docLinkHtml;\n",
       "          element.appendChild(docLink);\n",
       "        }\n",
       "      </script>\n",
       "    </div>\n",
       "  </div>\n",
       "  "
      ],
      "text/plain": [
       "               sum                 mean           \n",
       "             Sales   Unit         Sales       Unit\n",
       "Group                                             \n",
       " Kids     85072500  34029  45011.904762  18.004762\n",
       " Men      85750000  34300  45370.370370  18.148148\n",
       " Seniors  84037500  33615  44464.285714  17.785714\n",
       " Women    85442500  34177  45207.671958  18.083069"
      ]
     },
     "execution_count": 79,
     "metadata": {},
     "output_type": "execute_result"
    }
   ],
   "source": [
    "group_pivot = pd.pivot_table(df, index='Group', aggfunc=['sum', 'mean'])\n",
    "group_pivot "
   ]
  },
  {
   "cell_type": "code",
   "execution_count": 80,
   "metadata": {
    "colab": {
     "base_uri": "https://localhost:8080/",
     "height": 466
    },
    "executionInfo": {
     "elapsed": 153,
     "status": "ok",
     "timestamp": 1643951918899,
     "user": {
      "displayName": "Altius Digital",
      "photoUrl": "https://lh3.googleusercontent.com/a-/AOh14Gg-jM7BssdeaRMMWYY-mmAR3qB9-8qGrJOINB1iwA=s64",
      "userId": "15775653459441703519"
     },
     "user_tz": -330
    },
    "id": "7S2IZdIrFwCm",
    "outputId": "22377e62-5b41-44a8-c0e2-2b74875fce62"
   },
   "outputs": [
    {
     "data": {
      "image/png": "[encoded data removed]",
      "text/plain": [
       "<Figure size 1440x576 with 1 Axes>"
      ]
     },
     "metadata": {},
     "output_type": "display_data"
    }
   ],
   "source": [
    "labels = group_pivot['mean']['Sales'].index.to_list()\n",
    "# print(labels)\n",
    "colors = sns.color_palette('pastel')[0:5]\n",
    "plt.pie(group_pivot['mean']['Sales'], labels=labels, colors=colors, autopct='%.0f%%')\n",
    "plt.show()"
   ]
  },
  {
   "cell_type": "markdown",
   "metadata": {
    "id": "2nQnF3Ewir2r"
   },
   "source": [
    "The group-wise distribution presents us an interesting picture. **Men**, **Women**, **Kids** and **Seniors** have equal share, in terms of the value of sales for the entire three-month period.\n",
    "\n",
    "## Timewise Analysis\n",
    "In the next, we are going to perform the analysis based on the next categorical data of the problem - **Time**.  Here, we are going to pivot our main dataframe ```df``` indexed on **Time**, and also we are providing the same two ```aggfunc```tions for computing - ```sum``` and ```mean```. The reporting will be state-wise, and we are calling it as ```time_pivot```. As you can see from the output, both ```sum``` and ```mean``` for **Unit** and **Sales** are reported."
   ]
  },
  {
   "cell_type": "code",
   "execution_count": 81,
   "metadata": {
    "colab": {
     "base_uri": "https://localhost:8080/",
     "height": 206
    },
    "executionInfo": {
     "elapsed": 150,
     "status": "ok",
     "timestamp": 1643951918899,
     "user": {
      "displayName": "Altius Digital",
      "photoUrl": "https://lh3.googleusercontent.com/a-/AOh14Gg-jM7BssdeaRMMWYY-mmAR3qB9-8qGrJOINB1iwA=s64",
      "userId": "15775653459441703519"
     },
     "user_tz": -330
    },
    "id": "8IFsWrkvhqZd",
    "outputId": "2af271de-efda-40b3-ecf3-874a47d0052b"
   },
   "outputs": [
    {
     "data": {
      "text/html": [
       "\n",
       "  <div id=\"df-c8311da5-50ee-4b49-a117-636bb0ced18b\">\n",
       "    <div class=\"colab-df-container\">\n",
       "      <div>\n",
       "<style scoped>\n",
       "    .dataframe tbody tr th:only-of-type {\n",
       "        vertical-align: middle;\n",
       "    }\n",
       "\n",
       "    .dataframe tbody tr th {\n",
       "        vertical-align: top;\n",
       "    }\n",
       "\n",
       "    .dataframe thead tr th {\n",
       "        text-align: left;\n",
       "    }\n",
       "\n",
       "    .dataframe thead tr:last-of-type th {\n",
       "        text-align: right;\n",
       "    }\n",
       "</style>\n",
       "<table border=\"1\" class=\"dataframe\">\n",
       "  <thead>\n",
       "    <tr>\n",
       "      <th></th>\n",
       "      <th colspan=\"2\" halign=\"left\">sum</th>\n",
       "      <th colspan=\"2\" halign=\"left\">mean</th>\n",
       "    </tr>\n",
       "    <tr>\n",
       "      <th></th>\n",
       "      <th>Sales</th>\n",
       "      <th>Unit</th>\n",
       "      <th>Sales</th>\n",
       "      <th>Unit</th>\n",
       "    </tr>\n",
       "    <tr>\n",
       "      <th>Time</th>\n",
       "      <th></th>\n",
       "      <th></th>\n",
       "      <th></th>\n",
       "      <th></th>\n",
       "    </tr>\n",
       "  </thead>\n",
       "  <tbody>\n",
       "    <tr>\n",
       "      <th>Afternoon</th>\n",
       "      <td>114007500</td>\n",
       "      <td>45603</td>\n",
       "      <td>45241.071429</td>\n",
       "      <td>18.096429</td>\n",
       "    </tr>\n",
       "    <tr>\n",
       "      <th>Evening</th>\n",
       "      <td>112087500</td>\n",
       "      <td>44835</td>\n",
       "      <td>44479.166667</td>\n",
       "      <td>17.791667</td>\n",
       "    </tr>\n",
       "    <tr>\n",
       "      <th>Morning</th>\n",
       "      <td>114207500</td>\n",
       "      <td>45683</td>\n",
       "      <td>45320.436508</td>\n",
       "      <td>18.128175</td>\n",
       "    </tr>\n",
       "  </tbody>\n",
       "</table>\n",
       "</div>\n",
       "      <button class=\"colab-df-convert\" onclick=\"convertToInteractive('df-c8311da5-50ee-4b49-a117-636bb0ced18b')\"\n",
       "              title=\"Convert this dataframe to an interactive table.\"\n",
       "              style=\"display:none;\">\n",
       "        \n",
       "  <svg xmlns=\"http://www.w3.org/2000/svg\" height=\"24px\"viewBox=\"0 0 24 24\"\n",
       "       width=\"24px\">\n",
       "    <path d=\"M0 0h24v24H0V0z\" fill=\"none\"/>\n",
       "    <path d=\"M18.56 5.44l.94 2.06.94-2.06 2.06-.94-2.06-.94-.94-2.06-.94 2.06-2.06.94zm-11 1L8.5 8.5l.94-2.06 2.06-.94-2.06-.94L8.5 2.5l-.94 2.06-2.06.94zm10 10l.94 2.06.94-2.06 2.06-.94-2.06-.94-.94-2.06-.94 2.06-2.06.94z\"/><path d=\"M17.41 7.96l-1.37-1.37c-.4-.4-.92-.59-1.43-.59-.52 0-1.04.2-1.43.59L10.3 9.45l-7.72 7.72c-.78.78-.78 2.05 0 2.83L4 21.41c.39.39.9.59 1.41.59.51 0 1.02-.2 1.41-.59l7.78-7.78 2.81-2.81c.8-.78.8-2.07 0-2.86zM5.41 20L4 18.59l7.72-7.72 1.47 1.35L5.41 20z\"/>\n",
       "  </svg>\n",
       "      </button>\n",
       "      \n",
       "  <style>\n",
       "    .colab-df-container {\n",
       "      display:flex;\n",
       "      flex-wrap:wrap;\n",
       "      gap: 12px;\n",
       "    }\n",
       "\n",
       "    .colab-df-convert {\n",
       "      background-color: #E8F0FE;\n",
       "      border: none;\n",
       "      border-radius: 50%;\n",
       "      cursor: pointer;\n",
       "      display: none;\n",
       "      fill: #1967D2;\n",
       "      height: 32px;\n",
       "      padding: 0 0 0 0;\n",
       "      width: 32px;\n",
       "    }\n",
       "\n",
       "    .colab-df-convert:hover {\n",
       "      background-color: #E2EBFA;\n",
       "      box-shadow: 0px 1px 2px rgba(60, 64, 67, 0.3), 0px 1px 3px 1px rgba(60, 64, 67, 0.15);\n",
       "      fill: #174EA6;\n",
       "    }\n",
       "\n",
       "    [theme=dark] .colab-df-convert {\n",
       "      background-color: #3B4455;\n",
       "      fill: #D2E3FC;\n",
       "    }\n",
       "\n",
       "    [theme=dark] .colab-df-convert:hover {\n",
       "      background-color: #434B5C;\n",
       "      box-shadow: 0px 1px 3px 1px rgba(0, 0, 0, 0.15);\n",
       "      filter: drop-shadow(0px 1px 2px rgba(0, 0, 0, 0.3));\n",
       "      fill: #FFFFFF;\n",
       "    }\n",
       "  </style>\n",
       "\n",
       "      <script>\n",
       "        const buttonEl =\n",
       "          document.querySelector('#df-c8311da5-50ee-4b49-a117-636bb0ced18b button.colab-df-convert');\n",
       "        buttonEl.style.display =\n",
       "          google.colab.kernel.accessAllowed ? 'block' : 'none';\n",
       "\n",
       "        async function convertToInteractive(key) {\n",
       "          const element = document.querySelector('#df-c8311da5-50ee-4b49-a117-636bb0ced18b');\n",
       "          const dataTable =\n",
       "            await google.colab.kernel.invokeFunction('convertToInteractive',\n",
       "                                                     [key], {});\n",
       "          if (!dataTable) return;\n",
       "\n",
       "          const docLinkHtml = 'Like what you see? Visit the ' +\n",
       "            '<a target=\"_blank\" href=https://colab.research.google.com/notebooks/data_table.ipynb>data table notebook</a>'\n",
       "            + ' to learn more about interactive tables.';\n",
       "          element.innerHTML = '';\n",
       "          dataTable['output_type'] = 'display_data';\n",
       "          await google.colab.output.renderOutput(dataTable, element);\n",
       "          const docLink = document.createElement('div');\n",
       "          docLink.innerHTML = docLinkHtml;\n",
       "          element.appendChild(docLink);\n",
       "        }\n",
       "      </script>\n",
       "    </div>\n",
       "  </div>\n",
       "  "
      ],
      "text/plain": [
       "                  sum                 mean           \n",
       "                Sales   Unit         Sales       Unit\n",
       "Time                                                 \n",
       " Afternoon  114007500  45603  45241.071429  18.096429\n",
       " Evening    112087500  44835  44479.166667  17.791667\n",
       " Morning    114207500  45683  45320.436508  18.128175"
      ]
     },
     "execution_count": 81,
     "metadata": {},
     "output_type": "execute_result"
    }
   ],
   "source": [
    "time_pivot = pd.pivot_table(df, index='Time', aggfunc=['sum', 'mean'])\n",
    "time_pivot"
   ]
  },
  {
   "cell_type": "code",
   "execution_count": 82,
   "metadata": {
    "colab": {
     "base_uri": "https://localhost:8080/",
     "height": 466
    },
    "executionInfo": {
     "elapsed": 149,
     "status": "ok",
     "timestamp": 1643951918900,
     "user": {
      "displayName": "Altius Digital",
      "photoUrl": "https://lh3.googleusercontent.com/a-/AOh14Gg-jM7BssdeaRMMWYY-mmAR3qB9-8qGrJOINB1iwA=s64",
      "userId": "15775653459441703519"
     },
     "user_tz": -330
    },
    "id": "mWC97TlYGpxo",
    "outputId": "9170643a-9dea-485b-c34a-9a782d019be3"
   },
   "outputs": [
    {
     "data": {
      "image/png": "[encoded data removed]",
      "text/plain": [
       "<Figure size 1440x576 with 1 Axes>"
      ]
     },
     "metadata": {},
     "output_type": "display_data"
    }
   ],
   "source": [
    "labels = time_pivot['mean']['Sales'].index.to_list()\n",
    "# print(labels)\n",
    "colors = sns.color_palette('pastel')[0:5]\n",
    "plt.pie(time_pivot['mean']['Sales'], labels=labels, colors=colors, autopct='%.0f%%')\n",
    "plt.show()"
   ]
  },
  {
   "cell_type": "markdown",
   "metadata": {
    "id": "ibJjC37mhpjX"
   },
   "source": [
    "The time of sale doesn't matter for AAL, because, almost all the business are equi-distributed in terms of **Morning**, **Afternoon** or **Evening** Sales.\n",
    "\n",
    "# Report\n",
    "This report is based on the analysis of three month data - October, November and December 2020. One small detail is that the 31-Oct-2020 is missing in its entirity, and has been ignored. Based on the analysis of monthly data, the apparal business saw a subdued activity in the month of November, and both Unit and Sales saw a muted business. However, the month of December had a stellar performance of approximately 1.5 times the month of November.\n",
    "\n",
    "In terms of the state-wise analysis, just 3 states contributed to the overall three-month sales - VIC, NSW and SA. The remaining states controbution was just around 30%. The topper-state was VIC, while the laggard state were WA, NT and TAS (with a contribution of just 7% each). \n",
    "\n",
    "One thing that is clear from the overall numbers is that the apparals were equally popular among different age groups - kids, men, women or seniors. \n",
    "\n",
    "No particular time was a bad time for AAL for business, as the business was equally busy during all the times of store business hours."
   ]
  }
 ],
 "metadata": {
  "colab": {
   "authorship_tag": "ABX9TyOtn2cLKC2AwB9INS+BHvlV",
   "collapsed_sections": [],
   "name": "Python CEP",
   "provenance": []
  },
  "kernelspec": {
   "display_name": "Python 3",
   "language": "python",
   "name": "python3"
  },
  "language_info": {
   "codemirror_mode": {
    "name": "ipython",
    "version": 3
   },
   "file_extension": ".py",
   "mimetype": "text/x-python",
   "name": "python",
   "nbconvert_exporter": "python",
   "pygments_lexer": "ipython3",
   "version": "3.7.4"
  }
 },
 "nbformat": 4,
 "nbformat_minor": 4
}
