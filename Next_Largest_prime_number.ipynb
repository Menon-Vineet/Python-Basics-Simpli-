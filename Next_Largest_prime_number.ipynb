{
  "nbformat": 4,
  "nbformat_minor": 0,
  "metadata": {
    "colab": {
      "provenance": [],
      "authorship_tag": "ABX9TyNN8FBBzjeb2z3EHE32TKNt",
      "include_colab_link": true
    },
    "kernelspec": {
      "name": "python3",
      "display_name": "Python 3"
    },
    "language_info": {
      "name": "python"
    }
  },
  "cells": [
    {
      "cell_type": "markdown",
      "metadata": {
        "id": "view-in-github",
        "colab_type": "text"
      },
      "source": [
        "<a href=\"https://colab.research.google.com/github/Menon-Vineet/Python-Basics-Simpli-/blob/main/Next_Largest_prime_number.ipynb\" target=\"_parent\"><img src=\"https://colab.research.google.com/assets/colab-badge.svg\" alt=\"Open In Colab\"/></a>"
      ]
    },
    {
      "cell_type": "code",
      "execution_count": 6,
      "metadata": {
        "colab": {
          "base_uri": "https://localhost:8080/"
        },
        "id": "JAOF2kBGWvDu",
        "outputId": "a4ae9a3e-ee9f-4ee9-b1dc-2da104f075bc"
      },
      "outputs": [
        {
          "output_type": "stream",
          "name": "stdout",
          "text": [
            "Enter a number: 7.8\n",
            "Invalid input. Please enter a valid integer.\n",
            "Do you want to try again? (yes/no): y\n",
            "Enter a number: 69\n",
            "The next prime number larger than 69 is 71.\n"
          ]
        }
      ],
      "source": [
        "def is_prime(num):\n",
        "    \"\"\"Check if a number is a prime number.\"\"\"\n",
        "    if num <= 1:\n",
        "        return False\n",
        "    for i in range(2, int(num**0.5) + 1):\n",
        "        if num % i == 0:\n",
        "            return False\n",
        "    return True\n",
        "\n",
        "def next_prime(n):\n",
        "    \"\"\"Find the next prime number larger than n.\"\"\"\n",
        "    n += 1\n",
        "    while not is_prime(n):\n",
        "        n += 1\n",
        "    return n\n",
        "\n",
        "while True:\n",
        "    try:\n",
        "        user_input = int(input(\"Enter a number: \"))\n",
        "        print(f\"The next prime number larger than {user_input} is {next_prime(user_input)}.\")\n",
        "        break  # Exit the loop if the input is valid\n",
        "    except ValueError:\n",
        "        print(\"Invalid input. Please enter a valid integer.\")\n",
        "        retry = input(\"Do you want to try again? (yes/no): \").strip().lower()\n",
        "        if retry not in [\"yes\", \"y\"]:\n",
        "            print(\"Program stopped.\")\n",
        "            break\n"
      ]
    }
  ]
}